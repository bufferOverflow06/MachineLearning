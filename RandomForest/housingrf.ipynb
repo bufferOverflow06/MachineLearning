{
 "cells": [
  {
   "cell_type": "code",
   "execution_count": 8,
   "metadata": {},
   "outputs": [
    {
     "data": {
      "text/html": [
       "<div>\n",
       "<style scoped>\n",
       "    .dataframe tbody tr th:only-of-type {\n",
       "        vertical-align: middle;\n",
       "    }\n",
       "\n",
       "    .dataframe tbody tr th {\n",
       "        vertical-align: top;\n",
       "    }\n",
       "\n",
       "    .dataframe thead th {\n",
       "        text-align: right;\n",
       "    }\n",
       "</style>\n",
       "<table border=\"1\" class=\"dataframe\">\n",
       "  <thead>\n",
       "    <tr style=\"text-align: right;\">\n",
       "      <th></th>\n",
       "      <th>price</th>\n",
       "      <th>area</th>\n",
       "      <th>bedrooms</th>\n",
       "      <th>bathrooms</th>\n",
       "      <th>stories</th>\n",
       "      <th>mainroad</th>\n",
       "      <th>guestroom</th>\n",
       "      <th>basement</th>\n",
       "      <th>hotwaterheating</th>\n",
       "      <th>airconditioning</th>\n",
       "      <th>parking</th>\n",
       "      <th>prefarea</th>\n",
       "      <th>furnishingstatus</th>\n",
       "      <th>years</th>\n",
       "    </tr>\n",
       "  </thead>\n",
       "  <tbody>\n",
       "    <tr>\n",
       "      <th>0</th>\n",
       "      <td>13300000</td>\n",
       "      <td>7420</td>\n",
       "      <td>4</td>\n",
       "      <td>2</td>\n",
       "      <td>3</td>\n",
       "      <td>1</td>\n",
       "      <td>0</td>\n",
       "      <td>0</td>\n",
       "      <td>0</td>\n",
       "      <td>1</td>\n",
       "      <td>2</td>\n",
       "      <td>1</td>\n",
       "      <td>1.0</td>\n",
       "      <td>29</td>\n",
       "    </tr>\n",
       "    <tr>\n",
       "      <th>1</th>\n",
       "      <td>12250000</td>\n",
       "      <td>8960</td>\n",
       "      <td>4</td>\n",
       "      <td>4</td>\n",
       "      <td>4</td>\n",
       "      <td>1</td>\n",
       "      <td>0</td>\n",
       "      <td>0</td>\n",
       "      <td>0</td>\n",
       "      <td>1</td>\n",
       "      <td>3</td>\n",
       "      <td>0</td>\n",
       "      <td>1.0</td>\n",
       "      <td>49</td>\n",
       "    </tr>\n",
       "    <tr>\n",
       "      <th>2</th>\n",
       "      <td>12250000</td>\n",
       "      <td>9960</td>\n",
       "      <td>3</td>\n",
       "      <td>2</td>\n",
       "      <td>2</td>\n",
       "      <td>1</td>\n",
       "      <td>0</td>\n",
       "      <td>1</td>\n",
       "      <td>0</td>\n",
       "      <td>0</td>\n",
       "      <td>2</td>\n",
       "      <td>1</td>\n",
       "      <td>0.5</td>\n",
       "      <td>42</td>\n",
       "    </tr>\n",
       "    <tr>\n",
       "      <th>3</th>\n",
       "      <td>12215000</td>\n",
       "      <td>7500</td>\n",
       "      <td>4</td>\n",
       "      <td>2</td>\n",
       "      <td>2</td>\n",
       "      <td>1</td>\n",
       "      <td>0</td>\n",
       "      <td>1</td>\n",
       "      <td>0</td>\n",
       "      <td>1</td>\n",
       "      <td>3</td>\n",
       "      <td>1</td>\n",
       "      <td>1.0</td>\n",
       "      <td>22</td>\n",
       "    </tr>\n",
       "    <tr>\n",
       "      <th>4</th>\n",
       "      <td>11410000</td>\n",
       "      <td>7420</td>\n",
       "      <td>4</td>\n",
       "      <td>1</td>\n",
       "      <td>2</td>\n",
       "      <td>1</td>\n",
       "      <td>1</td>\n",
       "      <td>1</td>\n",
       "      <td>0</td>\n",
       "      <td>1</td>\n",
       "      <td>2</td>\n",
       "      <td>0</td>\n",
       "      <td>1.0</td>\n",
       "      <td>14</td>\n",
       "    </tr>\n",
       "    <tr>\n",
       "      <th>5</th>\n",
       "      <td>10850000</td>\n",
       "      <td>7500</td>\n",
       "      <td>3</td>\n",
       "      <td>3</td>\n",
       "      <td>1</td>\n",
       "      <td>1</td>\n",
       "      <td>0</td>\n",
       "      <td>1</td>\n",
       "      <td>0</td>\n",
       "      <td>1</td>\n",
       "      <td>2</td>\n",
       "      <td>1</td>\n",
       "      <td>0.5</td>\n",
       "      <td>45</td>\n",
       "    </tr>\n",
       "    <tr>\n",
       "      <th>6</th>\n",
       "      <td>10150000</td>\n",
       "      <td>8580</td>\n",
       "      <td>4</td>\n",
       "      <td>3</td>\n",
       "      <td>4</td>\n",
       "      <td>1</td>\n",
       "      <td>0</td>\n",
       "      <td>0</td>\n",
       "      <td>0</td>\n",
       "      <td>1</td>\n",
       "      <td>2</td>\n",
       "      <td>1</td>\n",
       "      <td>0.5</td>\n",
       "      <td>42</td>\n",
       "    </tr>\n",
       "    <tr>\n",
       "      <th>7</th>\n",
       "      <td>10150000</td>\n",
       "      <td>16200</td>\n",
       "      <td>5</td>\n",
       "      <td>3</td>\n",
       "      <td>2</td>\n",
       "      <td>1</td>\n",
       "      <td>0</td>\n",
       "      <td>0</td>\n",
       "      <td>0</td>\n",
       "      <td>0</td>\n",
       "      <td>0</td>\n",
       "      <td>0</td>\n",
       "      <td>0.0</td>\n",
       "      <td>15</td>\n",
       "    </tr>\n",
       "    <tr>\n",
       "      <th>8</th>\n",
       "      <td>9870000</td>\n",
       "      <td>8100</td>\n",
       "      <td>4</td>\n",
       "      <td>1</td>\n",
       "      <td>2</td>\n",
       "      <td>1</td>\n",
       "      <td>1</td>\n",
       "      <td>1</td>\n",
       "      <td>0</td>\n",
       "      <td>1</td>\n",
       "      <td>2</td>\n",
       "      <td>1</td>\n",
       "      <td>1.0</td>\n",
       "      <td>35</td>\n",
       "    </tr>\n",
       "    <tr>\n",
       "      <th>9</th>\n",
       "      <td>9800000</td>\n",
       "      <td>5750</td>\n",
       "      <td>3</td>\n",
       "      <td>2</td>\n",
       "      <td>4</td>\n",
       "      <td>1</td>\n",
       "      <td>1</td>\n",
       "      <td>0</td>\n",
       "      <td>0</td>\n",
       "      <td>1</td>\n",
       "      <td>1</td>\n",
       "      <td>1</td>\n",
       "      <td>0.0</td>\n",
       "      <td>27</td>\n",
       "    </tr>\n",
       "  </tbody>\n",
       "</table>\n",
       "</div>"
      ],
      "text/plain": [
       "      price   area  bedrooms  bathrooms  stories  mainroad  guestroom   \n",
       "0  13300000   7420         4          2        3         1          0  \\\n",
       "1  12250000   8960         4          4        4         1          0   \n",
       "2  12250000   9960         3          2        2         1          0   \n",
       "3  12215000   7500         4          2        2         1          0   \n",
       "4  11410000   7420         4          1        2         1          1   \n",
       "5  10850000   7500         3          3        1         1          0   \n",
       "6  10150000   8580         4          3        4         1          0   \n",
       "7  10150000  16200         5          3        2         1          0   \n",
       "8   9870000   8100         4          1        2         1          1   \n",
       "9   9800000   5750         3          2        4         1          1   \n",
       "\n",
       "   basement  hotwaterheating  airconditioning  parking  prefarea   \n",
       "0         0                0                1        2         1  \\\n",
       "1         0                0                1        3         0   \n",
       "2         1                0                0        2         1   \n",
       "3         1                0                1        3         1   \n",
       "4         1                0                1        2         0   \n",
       "5         1                0                1        2         1   \n",
       "6         0                0                1        2         1   \n",
       "7         0                0                0        0         0   \n",
       "8         1                0                1        2         1   \n",
       "9         0                0                1        1         1   \n",
       "\n",
       "   furnishingstatus  years  \n",
       "0               1.0     29  \n",
       "1               1.0     49  \n",
       "2               0.5     42  \n",
       "3               1.0     22  \n",
       "4               1.0     14  \n",
       "5               0.5     45  \n",
       "6               0.5     42  \n",
       "7               0.0     15  \n",
       "8               1.0     35  \n",
       "9               0.0     27  "
      ]
     },
     "execution_count": 8,
     "metadata": {},
     "output_type": "execute_result"
    }
   ],
   "source": [
    "import pandas as pd\n",
    "import numpy as np\n",
    "from sklearn.ensemble import RandomForestRegressor\n",
    "from sklearn.model_selection import train_test_split\n",
    "from sklearn.preprocessing import StandardScaler\n",
    "from matplotlib import pyplot as plt\n",
    "import seaborn as sns\n",
    "\n",
    "dataframe = pd.read_csv('Housing.csv')\n",
    "dataframe.head(10)"
   ]
  },
  {
   "cell_type": "code",
   "execution_count": 9,
   "metadata": {},
   "outputs": [
    {
     "data": {
      "text/plain": [
       "(545, 14)"
      ]
     },
     "execution_count": 9,
     "metadata": {},
     "output_type": "execute_result"
    }
   ],
   "source": [
    "dataframe.shape"
   ]
  },
  {
   "cell_type": "code",
   "execution_count": 10,
   "metadata": {},
   "outputs": [
    {
     "data": {
      "text/plain": [
       "price               0\n",
       "area                0\n",
       "bedrooms            0\n",
       "bathrooms           0\n",
       "stories             0\n",
       "mainroad            0\n",
       "guestroom           0\n",
       "basement            0\n",
       "hotwaterheating     0\n",
       "airconditioning     0\n",
       "parking             0\n",
       "prefarea            0\n",
       "furnishingstatus    0\n",
       "years               0\n",
       "dtype: int64"
      ]
     },
     "execution_count": 10,
     "metadata": {},
     "output_type": "execute_result"
    }
   ],
   "source": [
    "dataframe.isna().sum()"
   ]
  },
  {
   "cell_type": "code",
   "execution_count": 40,
   "metadata": {},
   "outputs": [
    {
     "name": "stdout",
     "output_type": "stream",
     "text": [
      "[ 5617150.  6542550.  3654000.  4491900.  4014500.  3892000.  4388300.\n",
      "  5243700.  3477600.  3080000. 10115000.  3334800.  2921100.  3874500.\n",
      "  3745000.  3663800.  2852430.  5808250.  3943800.  4357150.  5599300.\n",
      "  5890500.  2576000.  3964800.  4998700.  7125650.  3610600.  5162500.\n",
      "  6757100.  3647000.  5448800.  3236100.  7790300.  4091500.  3166100.\n",
      "  6874000.  5011650.  3867500.  3189550.  4383400.  4017300.  2608900.\n",
      "  6757800.  4381300.  4051600.  4119500.  7234500.  4380600.  3276700.\n",
      "  3290000.  7948094.  2705500.  4330200.  4370100.  3001600.  3206000.\n",
      "  6324500.  2389100.  4972800.  3220000.  3526600.  3499300.  4309200.\n",
      "  4284000.  4154500.  4314800.  6369300.  2889600.  5796700.  5446000.\n",
      "  4316900.  5345900.  4319000.  7420000.  2931600.  5022500.  4263000.\n",
      "  4862200.  5157250.  4520600.  7985600.  4360300.  6226500.  5953500.\n",
      "  2991800.  6133400.  2480100.  4401600.  8206100.  9329250.  2518145.\n",
      "  5410300.  3951850.  3754800.  9807000.  4169550.  4579750.  6037500.\n",
      "  4037250.  6402550.  4602850.  6368600.  3903900.  4521300.  6506850.\n",
      "  4858000.  7339500.  7059500.  6858600.]\n"
     ]
    }
   ],
   "source": [
    "X = dataframe.iloc[:,1:]\n",
    "y = dataframe.iloc[:,0]\n",
    "\n",
    "X_train, X_test, y_train, y_test = train_test_split(X,y,test_size=0.2,random_state=42)\n",
    "\n",
    "scaler = StandardScaler()\n",
    "\n",
    "X_train_scale = scaler.fit_transform(X_train)\n",
    "X_test_scale = scaler.transform(X_test)\n",
    "\n",
    "rf_reg1 = RandomForestRegressor(n_estimators=10)\n",
    "rf_reg1.fit(X_train_scale,y_train)\n",
    "y_pred1 = rf_reg1.predict(X_test_scale)\n",
    "\n",
    "print(y_pred1)"
   ]
  },
  {
   "cell_type": "code",
   "execution_count": 48,
   "metadata": {},
   "outputs": [
    {
     "name": "stdout",
     "output_type": "stream",
     "text": [
      "Accuracy:  59.902695685463655\n"
     ]
    }
   ],
   "source": [
    "from sklearn.metrics import r2_score\n",
    "\n",
    "acc1 = r2_score(y_test,y_pred1)\n",
    "print('Accuracy: ',acc1*100)"
   ]
  },
  {
   "cell_type": "code",
   "execution_count": 43,
   "metadata": {},
   "outputs": [
    {
     "name": "stdout",
     "output_type": "stream",
     "text": [
      "[5350800.  6891822.  3664500.  4618600.  4270700.  3995250.  4893700.\n",
      " 5398400.  3207050.  2821857.5 9869797.  3381000.  3222800.  3348800.\n",
      " 3538500.  4041450.  3378900.  5364625.  3606750.  3814300.  5097050.\n",
      " 6277250.  2999500.  3606750.  5139050.  7025025.  3385550.  4691750.\n",
      " 6969200.  3512250.  5388250.  2825550.  7082950.  4135250.  3185175.\n",
      " 6277250.  4548950.  3854550.  3055850.  3895150.  4351200.  3159100.\n",
      " 6929300.  4173400.  3740800.  4269300.  7109900.  4052650.  3213000.\n",
      " 3195150.  8039297.  2699900.  4246200.  4396000.  3480750.  3245007.5\n",
      " 7142800.  2451400.  5165650.  3054450.  3848250.  4078200.  4564000.\n",
      " 4564000.  3958675.  4514650.  6554975.  2600150.  5777450.  5282900.\n",
      " 4235350.  5276950.  4342450.  7152250.  3009650.  5136950.  4320750.\n",
      " 4264925.  4900000.  4558750.  8261400.  4346650.  5471550.  6170150.\n",
      " 3009300.  6683075.  2524900.  4133325.  8313494.  8954925.  3224515.\n",
      " 5751550.  3732750.  3456600.  9315250.  4018000.  5225675.  6229650.\n",
      " 4325650.  5787775.  4491725.  6877150.  3882550.  4179000.  6083000.\n",
      " 5347300.  7420000.  7415450.  6147400. ]\n"
     ]
    }
   ],
   "source": [
    "rf_reg2 = RandomForestRegressor(n_estimators=20)\n",
    "rf_reg2.fit(X_train_scale,y_train)\n",
    "y_pred2 = rf_reg2.predict(X_test_scale)\n",
    "\n",
    "print(y_pred2)"
   ]
  },
  {
   "cell_type": "code",
   "execution_count": 44,
   "metadata": {},
   "outputs": [
    {
     "name": "stdout",
     "output_type": "stream",
     "text": [
      "Accuracy:  62.844902941427726\n"
     ]
    }
   ],
   "source": [
    "acc2 = r2_score(y_test,y_pred2)\n",
    "print('Accuracy: ',acc2*100)"
   ]
  },
  {
   "cell_type": "code",
   "execution_count": 53,
   "metadata": {},
   "outputs": [
    {
     "name": "stdout",
     "output_type": "stream",
     "text": [
      "[5350800.  6891822.  3664500.  4618600.  4270700.  3995250.  4893700.\n",
      " 5398400.  3207050.  2821857.5 9869797.  3381000.  3222800.  3348800.\n",
      " 3538500.  4041450.  3378900.  5364625.  3606750.  3814300.  5097050.\n",
      " 6277250.  2999500.  3606750.  5139050.  7025025.  3385550.  4691750.\n",
      " 6969200.  3512250.  5388250.  2825550.  7082950.  4135250.  3185175.\n",
      " 6277250.  4548950.  3854550.  3055850.  3895150.  4351200.  3159100.\n",
      " 6929300.  4173400.  3740800.  4269300.  7109900.  4052650.  3213000.\n",
      " 3195150.  8039297.  2699900.  4246200.  4396000.  3480750.  3245007.5\n",
      " 7142800.  2451400.  5165650.  3054450.  3848250.  4078200.  4564000.\n",
      " 4564000.  3958675.  4514650.  6554975.  2600150.  5777450.  5282900.\n",
      " 4235350.  5276950.  4342450.  7152250.  3009650.  5136950.  4320750.\n",
      " 4264925.  4900000.  4558750.  8261400.  4346650.  5471550.  6170150.\n",
      " 3009300.  6683075.  2524900.  4133325.  8313494.  8954925.  3224515.\n",
      " 5751550.  3732750.  3456600.  9315250.  4018000.  5225675.  6229650.\n",
      " 4325650.  5787775.  4491725.  6877150.  3882550.  4179000.  6083000.\n",
      " 5347300.  7420000.  7415450.  6147400. ]\n"
     ]
    }
   ],
   "source": [
    "rf_reg3 = RandomForestRegressor(n_estimators=50)\n",
    "rf_reg3.fit(X_train_scale,y_train)\n",
    "y_pred3 = rf_reg2.predict(X_test_scale)\n",
    "\n",
    "print(y_pred3)"
   ]
  },
  {
   "cell_type": "code",
   "execution_count": 54,
   "metadata": {},
   "outputs": [
    {
     "name": "stdout",
     "output_type": "stream",
     "text": [
      "Accuracy:  62.844902941427726\n"
     ]
    }
   ],
   "source": [
    "acc3 = r2_score(y_test,y_pred3)\n",
    "print('Accuracy: ',acc3*100)"
   ]
  }
 ],
 "metadata": {
  "kernelspec": {
   "display_name": "Python 3",
   "language": "python",
   "name": "python3"
  },
  "language_info": {
   "codemirror_mode": {
    "name": "ipython",
    "version": 3
   },
   "file_extension": ".py",
   "mimetype": "text/x-python",
   "name": "python",
   "nbconvert_exporter": "python",
   "pygments_lexer": "ipython3",
   "version": "3.11.3"
  },
  "orig_nbformat": 4
 },
 "nbformat": 4,
 "nbformat_minor": 2
}
