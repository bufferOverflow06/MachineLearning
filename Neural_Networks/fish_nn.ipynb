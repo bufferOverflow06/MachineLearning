{
 "cells": [
  {
   "cell_type": "code",
   "execution_count": 19,
   "metadata": {},
   "outputs": [],
   "source": [
    "import pandas as pd\n",
    "import numpy as np\n",
    "import matplotlib.pyplot as plt\n",
    "import seaborn as sns\n",
    "from sklearn.preprocessing import MinMaxScaler, StandardScaler\n",
    "import tensorflow as tf\n",
    "from tensorflow import keras\n",
    "from tensorflow.keras.models import Sequential\n",
    "from tensorflow.keras.layers import Dense, Activation\n",
    "from tensorflow.keras.optimizers import Adam\n",
    "from tensorflow.keras.metrics import categorical_crossentropy"
   ]
  },
  {
   "cell_type": "code",
   "execution_count": 20,
   "metadata": {},
   "outputs": [
    {
     "name": "stdout",
     "output_type": "stream",
     "text": [
      "2.10.1\n",
      "[]\n"
     ]
    }
   ],
   "source": [
    "print(tf.__version__)\n",
    "print(tf.config.list_physical_devices(\"GPU\"))"
   ]
  },
  {
   "cell_type": "code",
   "execution_count": 21,
   "metadata": {},
   "outputs": [
    {
     "data": {
      "text/html": [
       "<div>\n",
       "<style scoped>\n",
       "    .dataframe tbody tr th:only-of-type {\n",
       "        vertical-align: middle;\n",
       "    }\n",
       "\n",
       "    .dataframe tbody tr th {\n",
       "        vertical-align: top;\n",
       "    }\n",
       "\n",
       "    .dataframe thead th {\n",
       "        text-align: right;\n",
       "    }\n",
       "</style>\n",
       "<table border=\"1\" class=\"dataframe\">\n",
       "  <thead>\n",
       "    <tr style=\"text-align: right;\">\n",
       "      <th></th>\n",
       "      <th>Species</th>\n",
       "      <th>Weight</th>\n",
       "      <th>Length1</th>\n",
       "      <th>Length2</th>\n",
       "      <th>Length3</th>\n",
       "      <th>Height</th>\n",
       "      <th>Width</th>\n",
       "    </tr>\n",
       "  </thead>\n",
       "  <tbody>\n",
       "    <tr>\n",
       "      <th>0</th>\n",
       "      <td>Bream</td>\n",
       "      <td>242.0</td>\n",
       "      <td>23.2</td>\n",
       "      <td>25.4</td>\n",
       "      <td>30.0</td>\n",
       "      <td>11.5200</td>\n",
       "      <td>4.0200</td>\n",
       "    </tr>\n",
       "    <tr>\n",
       "      <th>1</th>\n",
       "      <td>Bream</td>\n",
       "      <td>290.0</td>\n",
       "      <td>24.0</td>\n",
       "      <td>26.3</td>\n",
       "      <td>31.2</td>\n",
       "      <td>12.4800</td>\n",
       "      <td>4.3056</td>\n",
       "    </tr>\n",
       "    <tr>\n",
       "      <th>2</th>\n",
       "      <td>Bream</td>\n",
       "      <td>340.0</td>\n",
       "      <td>23.9</td>\n",
       "      <td>26.5</td>\n",
       "      <td>31.1</td>\n",
       "      <td>12.3778</td>\n",
       "      <td>4.6961</td>\n",
       "    </tr>\n",
       "    <tr>\n",
       "      <th>3</th>\n",
       "      <td>Bream</td>\n",
       "      <td>363.0</td>\n",
       "      <td>26.3</td>\n",
       "      <td>29.0</td>\n",
       "      <td>33.5</td>\n",
       "      <td>12.7300</td>\n",
       "      <td>4.4555</td>\n",
       "    </tr>\n",
       "    <tr>\n",
       "      <th>4</th>\n",
       "      <td>Bream</td>\n",
       "      <td>430.0</td>\n",
       "      <td>26.5</td>\n",
       "      <td>29.0</td>\n",
       "      <td>34.0</td>\n",
       "      <td>12.4440</td>\n",
       "      <td>5.1340</td>\n",
       "    </tr>\n",
       "    <tr>\n",
       "      <th>5</th>\n",
       "      <td>Bream</td>\n",
       "      <td>450.0</td>\n",
       "      <td>26.8</td>\n",
       "      <td>29.7</td>\n",
       "      <td>34.7</td>\n",
       "      <td>13.6024</td>\n",
       "      <td>4.9274</td>\n",
       "    </tr>\n",
       "    <tr>\n",
       "      <th>6</th>\n",
       "      <td>Bream</td>\n",
       "      <td>500.0</td>\n",
       "      <td>26.8</td>\n",
       "      <td>29.7</td>\n",
       "      <td>34.5</td>\n",
       "      <td>14.1795</td>\n",
       "      <td>5.2785</td>\n",
       "    </tr>\n",
       "    <tr>\n",
       "      <th>7</th>\n",
       "      <td>Bream</td>\n",
       "      <td>390.0</td>\n",
       "      <td>27.6</td>\n",
       "      <td>30.0</td>\n",
       "      <td>35.0</td>\n",
       "      <td>12.6700</td>\n",
       "      <td>4.6900</td>\n",
       "    </tr>\n",
       "    <tr>\n",
       "      <th>8</th>\n",
       "      <td>Bream</td>\n",
       "      <td>450.0</td>\n",
       "      <td>27.6</td>\n",
       "      <td>30.0</td>\n",
       "      <td>35.1</td>\n",
       "      <td>14.0049</td>\n",
       "      <td>4.8438</td>\n",
       "    </tr>\n",
       "    <tr>\n",
       "      <th>9</th>\n",
       "      <td>Bream</td>\n",
       "      <td>500.0</td>\n",
       "      <td>28.5</td>\n",
       "      <td>30.7</td>\n",
       "      <td>36.2</td>\n",
       "      <td>14.2266</td>\n",
       "      <td>4.9594</td>\n",
       "    </tr>\n",
       "  </tbody>\n",
       "</table>\n",
       "</div>"
      ],
      "text/plain": [
       "  Species  Weight  Length1  Length2  Length3   Height   Width\n",
       "0   Bream   242.0     23.2     25.4     30.0  11.5200  4.0200\n",
       "1   Bream   290.0     24.0     26.3     31.2  12.4800  4.3056\n",
       "2   Bream   340.0     23.9     26.5     31.1  12.3778  4.6961\n",
       "3   Bream   363.0     26.3     29.0     33.5  12.7300  4.4555\n",
       "4   Bream   430.0     26.5     29.0     34.0  12.4440  5.1340\n",
       "5   Bream   450.0     26.8     29.7     34.7  13.6024  4.9274\n",
       "6   Bream   500.0     26.8     29.7     34.5  14.1795  5.2785\n",
       "7   Bream   390.0     27.6     30.0     35.0  12.6700  4.6900\n",
       "8   Bream   450.0     27.6     30.0     35.1  14.0049  4.8438\n",
       "9   Bream   500.0     28.5     30.7     36.2  14.2266  4.9594"
      ]
     },
     "execution_count": 21,
     "metadata": {},
     "output_type": "execute_result"
    }
   ],
   "source": [
    "dataframe = pd.read_csv('../Datasets/Fish.csv')\n",
    "dataframe.head(10)"
   ]
  },
  {
   "cell_type": "code",
   "execution_count": 22,
   "metadata": {},
   "outputs": [
    {
     "data": {
      "text/plain": [
       "Species    0\n",
       "Weight     0\n",
       "Length1    0\n",
       "Length2    0\n",
       "Length3    0\n",
       "Height     0\n",
       "Width      0\n",
       "dtype: int64"
      ]
     },
     "execution_count": 22,
     "metadata": {},
     "output_type": "execute_result"
    }
   ],
   "source": [
    "dataframe.isna().sum()"
   ]
  },
  {
   "cell_type": "code",
   "execution_count": 23,
   "metadata": {},
   "outputs": [
    {
     "data": {
      "text/plain": [
       "(159, 7)"
      ]
     },
     "execution_count": 23,
     "metadata": {},
     "output_type": "execute_result"
    }
   ],
   "source": [
    "dataframe.shape"
   ]
  },
  {
   "cell_type": "code",
   "execution_count": 24,
   "metadata": {},
   "outputs": [
    {
     "data": {
      "text/plain": [
       "array(['Bream', 'Roach', 'Whitefish', 'Parkki', 'Perch', 'Pike', 'Smelt'],\n",
       "      dtype=object)"
      ]
     },
     "execution_count": 24,
     "metadata": {},
     "output_type": "execute_result"
    }
   ],
   "source": [
    "x = dataframe['Species'].unique()\n",
    "x"
   ]
  },
  {
   "cell_type": "code",
   "execution_count": 25,
   "metadata": {},
   "outputs": [],
   "source": [
    "df1 = dataframe\n",
    "df1['Species'] = pd.factorize(dataframe['Species'])[0]"
   ]
  },
  {
   "cell_type": "code",
   "execution_count": 26,
   "metadata": {},
   "outputs": [
    {
     "name": "stdout",
     "output_type": "stream",
     "text": [
      "(159, 6)\n",
      "(159,)\n",
      "6\n"
     ]
    }
   ],
   "source": [
    "X = df1.iloc[:,1:]\n",
    "y = df1.iloc[:,0]\n",
    "print(X.shape)\n",
    "print(y.shape)\n",
    "print(y.iloc[157])"
   ]
  },
  {
   "cell_type": "code",
   "execution_count": 27,
   "metadata": {},
   "outputs": [],
   "source": [
    "from sklearn.utils import shuffle \n",
    "\n",
    "X, y = shuffle(X, y)"
   ]
  },
  {
   "cell_type": "code",
   "execution_count": 28,
   "metadata": {},
   "outputs": [
    {
     "name": "stdout",
     "output_type": "stream",
     "text": [
      "(159, 6)\n",
      "[0.39393939 0.45631068 0.45636364 0.50506757 0.73978153 0.65967524]\n",
      "[0.32727273 0.40776699 0.41090909 0.42567568 0.52329266 0.77728913]\n",
      "[0.10242424 0.2815534  0.28363636 0.31081081 0.33699778 0.39292963]\n",
      "[0.00739394 0.0776699  0.06909091 0.0777027  0.02101157 0.04877086]\n",
      "[0.04181818 0.17475728 0.17818182 0.19425676 0.20720778 0.25007048]\n"
     ]
    }
   ],
   "source": [
    "\n",
    "scaler = MinMaxScaler(feature_range=(0,1))\n",
    "X_scaled = scaler.fit_transform(X)\n",
    "print(X_scaled.shape)\n",
    "for i in range(0,5):\n",
    "    print(X_scaled[i])"
   ]
  },
  {
   "cell_type": "code",
   "execution_count": 29,
   "metadata": {},
   "outputs": [],
   "source": [
    "model = Sequential([\n",
    "    Dense(units=20, input_shape=(6,), activation='relu'),\n",
    "    Dense(units=10, activation='relu'),\n",
    "    Dense(units=7, activation='softmax')\n",
    "])"
   ]
  },
  {
   "cell_type": "code",
   "execution_count": 30,
   "metadata": {},
   "outputs": [],
   "source": [
    "model.compile(optimizer=Adam(learning_rate=0.0001), loss='sparse_categorical_crossentropy', metrics=['accuracy'])"
   ]
  },
  {
   "cell_type": "code",
   "execution_count": 31,
   "metadata": {},
   "outputs": [
    {
     "name": "stdout",
     "output_type": "stream",
     "text": [
      "Epoch 1/30\n"
     ]
    },
    {
     "name": "stdout",
     "output_type": "stream",
     "text": [
      "16/16 - 1s - loss: 1.9637 - accuracy: 0.0252 - 529ms/epoch - 33ms/step\n",
      "Epoch 2/30\n",
      "16/16 - 0s - loss: 1.9604 - accuracy: 0.0189 - 38ms/epoch - 2ms/step\n",
      "Epoch 3/30\n",
      "16/16 - 0s - loss: 1.9574 - accuracy: 0.0692 - 26ms/epoch - 2ms/step\n",
      "Epoch 4/30\n",
      "16/16 - 0s - loss: 1.9544 - accuracy: 0.1069 - 27ms/epoch - 2ms/step\n",
      "Epoch 5/30\n",
      "16/16 - 0s - loss: 1.9518 - accuracy: 0.1447 - 28ms/epoch - 2ms/step\n",
      "Epoch 6/30\n",
      "16/16 - 0s - loss: 1.9488 - accuracy: 0.1824 - 33ms/epoch - 2ms/step\n",
      "Epoch 7/30\n",
      "16/16 - 0s - loss: 1.9462 - accuracy: 0.2013 - 33ms/epoch - 2ms/step\n",
      "Epoch 8/30\n",
      "16/16 - 0s - loss: 1.9435 - accuracy: 0.2075 - 35ms/epoch - 2ms/step\n",
      "Epoch 9/30\n",
      "16/16 - 0s - loss: 1.9409 - accuracy: 0.2201 - 33ms/epoch - 2ms/step\n",
      "Epoch 10/30\n",
      "16/16 - 0s - loss: 1.9384 - accuracy: 0.2201 - 33ms/epoch - 2ms/step\n",
      "Epoch 11/30\n",
      "16/16 - 0s - loss: 1.9357 - accuracy: 0.2201 - 33ms/epoch - 2ms/step\n",
      "Epoch 12/30\n",
      "16/16 - 0s - loss: 1.9332 - accuracy: 0.2201 - 32ms/epoch - 2ms/step\n",
      "Epoch 13/30\n",
      "16/16 - 0s - loss: 1.9308 - accuracy: 0.2201 - 33ms/epoch - 2ms/step\n",
      "Epoch 14/30\n",
      "16/16 - 0s - loss: 1.9285 - accuracy: 0.2264 - 30ms/epoch - 2ms/step\n",
      "Epoch 15/30\n",
      "16/16 - 0s - loss: 1.9263 - accuracy: 0.2264 - 28ms/epoch - 2ms/step\n",
      "Epoch 16/30\n",
      "16/16 - 0s - loss: 1.9241 - accuracy: 0.2264 - 31ms/epoch - 2ms/step\n",
      "Epoch 17/30\n",
      "16/16 - 0s - loss: 1.9220 - accuracy: 0.2264 - 33ms/epoch - 2ms/step\n",
      "Epoch 18/30\n",
      "16/16 - 0s - loss: 1.9198 - accuracy: 0.2264 - 29ms/epoch - 2ms/step\n",
      "Epoch 19/30\n",
      "16/16 - 0s - loss: 1.9177 - accuracy: 0.2264 - 25ms/epoch - 2ms/step\n",
      "Epoch 20/30\n",
      "16/16 - 0s - loss: 1.9156 - accuracy: 0.2264 - 25ms/epoch - 2ms/step\n",
      "Epoch 21/30\n",
      "16/16 - 0s - loss: 1.9135 - accuracy: 0.2264 - 27ms/epoch - 2ms/step\n",
      "Epoch 22/30\n",
      "16/16 - 0s - loss: 1.9116 - accuracy: 0.2264 - 28ms/epoch - 2ms/step\n",
      "Epoch 23/30\n",
      "16/16 - 0s - loss: 1.9098 - accuracy: 0.2264 - 26ms/epoch - 2ms/step\n",
      "Epoch 24/30\n",
      "16/16 - 0s - loss: 1.9082 - accuracy: 0.2264 - 27ms/epoch - 2ms/step\n",
      "Epoch 25/30\n",
      "16/16 - 0s - loss: 1.9066 - accuracy: 0.2264 - 27ms/epoch - 2ms/step\n",
      "Epoch 26/30\n",
      "16/16 - 0s - loss: 1.9051 - accuracy: 0.2264 - 28ms/epoch - 2ms/step\n",
      "Epoch 27/30\n",
      "16/16 - 0s - loss: 1.9037 - accuracy: 0.2264 - 25ms/epoch - 2ms/step\n",
      "Epoch 28/30\n",
      "16/16 - 0s - loss: 1.9023 - accuracy: 0.2264 - 27ms/epoch - 2ms/step\n",
      "Epoch 29/30\n",
      "16/16 - 0s - loss: 1.9009 - accuracy: 0.2264 - 23ms/epoch - 1ms/step\n",
      "Epoch 30/30\n",
      "16/16 - 0s - loss: 1.8994 - accuracy: 0.2264 - 26ms/epoch - 2ms/step\n"
     ]
    },
    {
     "data": {
      "text/plain": [
       "<keras.callbacks.History at 0x1f4f3f8b3d0>"
      ]
     },
     "execution_count": 31,
     "metadata": {},
     "output_type": "execute_result"
    }
   ],
   "source": [
    "model.fit(x=X_scaled,y=y,batch_size=10,epochs=30,verbose=2)"
   ]
  },
  {
   "cell_type": "markdown",
   "metadata": {},
   "source": [
    "#### Using validation split"
   ]
  },
  {
   "cell_type": "code",
   "execution_count": 32,
   "metadata": {},
   "outputs": [
    {
     "name": "stdout",
     "output_type": "stream",
     "text": [
      "Epoch 1/30\n",
      "13/13 - 0s - loss: 1.8979 - accuracy: 0.2205 - val_loss: 1.8986 - val_accuracy: 0.2500 - 248ms/epoch - 19ms/step\n",
      "Epoch 2/30\n",
      "13/13 - 0s - loss: 1.8967 - accuracy: 0.2205 - val_loss: 1.8978 - val_accuracy: 0.2500 - 97ms/epoch - 7ms/step\n",
      "Epoch 3/30\n",
      "13/13 - 0s - loss: 1.8953 - accuracy: 0.2205 - val_loss: 1.8970 - val_accuracy: 0.2500 - 77ms/epoch - 6ms/step\n",
      "Epoch 4/30\n",
      "13/13 - 0s - loss: 1.8941 - accuracy: 0.2205 - val_loss: 1.8961 - val_accuracy: 0.2500 - 80ms/epoch - 6ms/step\n",
      "Epoch 5/30\n",
      "13/13 - 0s - loss: 1.8928 - accuracy: 0.2205 - val_loss: 1.8950 - val_accuracy: 0.2500 - 73ms/epoch - 6ms/step\n",
      "Epoch 6/30\n",
      "13/13 - 0s - loss: 1.8916 - accuracy: 0.2205 - val_loss: 1.8943 - val_accuracy: 0.2500 - 76ms/epoch - 6ms/step\n",
      "Epoch 7/30\n",
      "13/13 - 0s - loss: 1.8902 - accuracy: 0.2205 - val_loss: 1.8932 - val_accuracy: 0.2500 - 79ms/epoch - 6ms/step\n",
      "Epoch 8/30\n",
      "13/13 - 0s - loss: 1.8889 - accuracy: 0.2205 - val_loss: 1.8922 - val_accuracy: 0.2500 - 79ms/epoch - 6ms/step\n",
      "Epoch 9/30\n",
      "13/13 - 0s - loss: 1.8876 - accuracy: 0.2205 - val_loss: 1.8912 - val_accuracy: 0.2500 - 73ms/epoch - 6ms/step\n",
      "Epoch 10/30\n",
      "13/13 - 0s - loss: 1.8863 - accuracy: 0.2205 - val_loss: 1.8902 - val_accuracy: 0.2500 - 81ms/epoch - 6ms/step\n",
      "Epoch 11/30\n",
      "13/13 - 0s - loss: 1.8850 - accuracy: 0.2205 - val_loss: 1.8893 - val_accuracy: 0.2500 - 65ms/epoch - 5ms/step\n",
      "Epoch 12/30\n",
      "13/13 - 0s - loss: 1.8837 - accuracy: 0.2205 - val_loss: 1.8883 - val_accuracy: 0.2500 - 68ms/epoch - 5ms/step\n",
      "Epoch 13/30\n",
      "13/13 - 0s - loss: 1.8823 - accuracy: 0.2205 - val_loss: 1.8872 - val_accuracy: 0.2500 - 67ms/epoch - 5ms/step\n",
      "Epoch 14/30\n",
      "13/13 - 0s - loss: 1.8810 - accuracy: 0.2205 - val_loss: 1.8861 - val_accuracy: 0.2500 - 63ms/epoch - 5ms/step\n",
      "Epoch 15/30\n",
      "13/13 - 0s - loss: 1.8796 - accuracy: 0.2205 - val_loss: 1.8850 - val_accuracy: 0.2500 - 73ms/epoch - 6ms/step\n",
      "Epoch 16/30\n",
      "13/13 - 0s - loss: 1.8782 - accuracy: 0.2205 - val_loss: 1.8839 - val_accuracy: 0.2500 - 65ms/epoch - 5ms/step\n",
      "Epoch 17/30\n",
      "13/13 - 0s - loss: 1.8769 - accuracy: 0.2205 - val_loss: 1.8829 - val_accuracy: 0.2500 - 80ms/epoch - 6ms/step\n",
      "Epoch 18/30\n",
      "13/13 - 0s - loss: 1.8754 - accuracy: 0.2205 - val_loss: 1.8817 - val_accuracy: 0.2500 - 62ms/epoch - 5ms/step\n",
      "Epoch 19/30\n",
      "13/13 - 0s - loss: 1.8740 - accuracy: 0.2205 - val_loss: 1.8806 - val_accuracy: 0.2500 - 70ms/epoch - 5ms/step\n",
      "Epoch 20/30\n",
      "13/13 - 0s - loss: 1.8726 - accuracy: 0.2205 - val_loss: 1.8794 - val_accuracy: 0.2500 - 78ms/epoch - 6ms/step\n",
      "Epoch 21/30\n",
      "13/13 - 0s - loss: 1.8712 - accuracy: 0.2205 - val_loss: 1.8782 - val_accuracy: 0.2500 - 78ms/epoch - 6ms/step\n",
      "Epoch 22/30\n",
      "13/13 - 0s - loss: 1.8697 - accuracy: 0.2205 - val_loss: 1.8772 - val_accuracy: 0.2500 - 78ms/epoch - 6ms/step\n",
      "Epoch 23/30\n",
      "13/13 - 0s - loss: 1.8683 - accuracy: 0.2205 - val_loss: 1.8761 - val_accuracy: 0.2500 - 78ms/epoch - 6ms/step\n",
      "Epoch 24/30\n",
      "13/13 - 0s - loss: 1.8668 - accuracy: 0.2205 - val_loss: 1.8750 - val_accuracy: 0.2500 - 70ms/epoch - 5ms/step\n",
      "Epoch 25/30\n",
      "13/13 - 0s - loss: 1.8653 - accuracy: 0.2283 - val_loss: 1.8738 - val_accuracy: 0.2500 - 63ms/epoch - 5ms/step\n",
      "Epoch 26/30\n",
      "13/13 - 0s - loss: 1.8638 - accuracy: 0.2283 - val_loss: 1.8727 - val_accuracy: 0.2500 - 70ms/epoch - 5ms/step\n",
      "Epoch 27/30\n",
      "13/13 - 0s - loss: 1.8623 - accuracy: 0.2283 - val_loss: 1.8713 - val_accuracy: 0.2500 - 78ms/epoch - 6ms/step\n",
      "Epoch 28/30\n",
      "13/13 - 0s - loss: 1.8608 - accuracy: 0.2283 - val_loss: 1.8702 - val_accuracy: 0.2500 - 63ms/epoch - 5ms/step\n",
      "Epoch 29/30\n",
      "13/13 - 0s - loss: 1.8592 - accuracy: 0.2283 - val_loss: 1.8689 - val_accuracy: 0.2500 - 62ms/epoch - 5ms/step\n",
      "Epoch 30/30\n",
      "13/13 - 0s - loss: 1.8577 - accuracy: 0.2283 - val_loss: 1.8677 - val_accuracy: 0.2500 - 47ms/epoch - 4ms/step\n"
     ]
    }
   ],
   "source": [
    "hist = model.fit(x=X_scaled,y=y,validation_split=0.2,batch_size=10,epochs=30,verbose=2)"
   ]
  },
  {
   "cell_type": "code",
   "execution_count": 33,
   "metadata": {},
   "outputs": [
    {
     "data": {
      "image/png": "[encoded data removed]",
      "text/plain": [
       "<Figure size 640x480 with 1 Axes>"
      ]
     },
     "metadata": {},
     "output_type": "display_data"
    }
   ],
   "source": [
    "fig = plt.figure()\n",
    "plt.plot(hist.history['loss'],color = 'teal',label = 'loss')\n",
    "plt.plot(hist.history['val_loss'],color='orange',label='val_loss')\n",
    "fig.suptitle('Loss', fontsize=20)\n",
    "plt.legend(loc='upper right')\n",
    "plt.show()"
   ]
  },
  {
   "cell_type": "code",
   "execution_count": 34,
   "metadata": {},
   "outputs": [
    {
     "data": {
      "image/png": "[encoded data removed]",
      "text/plain": [
       "<Figure size 640x480 with 1 Axes>"
      ]
     },
     "metadata": {},
     "output_type": "display_data"
    }
   ],
   "source": [
    "fig = plt.figure()\n",
    "plt.plot(hist.history['accuracy'],color = 'teal',label = 'accuracy')\n",
    "plt.plot(hist.history['val_accuracy'],color = 'orange',label='val_accuracy')\n",
    "fig.suptitle('Accuracy', fontsize=20)\n",
    "plt.legend(loc='upper right')\n",
    "plt.show()"
   ]
  },
  {
   "cell_type": "markdown",
   "metadata": {},
   "source": [
    "#### Using validation test set"
   ]
  },
  {
   "cell_type": "code",
   "execution_count": 35,
   "metadata": {},
   "outputs": [],
   "source": [
    "from sklearn.model_selection import train_test_split\n",
    "\n",
    "X_train_scaled, X_test_scaled, y_train, y_test = train_test_split(X_scaled,y,test_size=0.2,random_state=42)\n",
    "\n"
   ]
  },
  {
   "cell_type": "code",
   "execution_count": 38,
   "metadata": {},
   "outputs": [
    {
     "name": "stdout",
     "output_type": "stream",
     "text": [
      "Epoch 1/100\n",
      "13/13 - 0s - loss: 1.8202 - accuracy: 0.1969 - 35ms/epoch - 3ms/step\n",
      "Epoch 2/100\n",
      "13/13 - 0s - loss: 1.8185 - accuracy: 0.1969 - 28ms/epoch - 2ms/step\n",
      "Epoch 3/100\n",
      "13/13 - 0s - loss: 1.8167 - accuracy: 0.1969 - 27ms/epoch - 2ms/step\n",
      "Epoch 4/100\n",
      "13/13 - 0s - loss: 1.8149 - accuracy: 0.1969 - 36ms/epoch - 3ms/step\n",
      "Epoch 5/100\n",
      "13/13 - 0s - loss: 1.8131 - accuracy: 0.1969 - 37ms/epoch - 3ms/step\n",
      "Epoch 6/100\n",
      "13/13 - 0s - loss: 1.8112 - accuracy: 0.1969 - 33ms/epoch - 3ms/step\n",
      "Epoch 7/100\n",
      "13/13 - 0s - loss: 1.8094 - accuracy: 0.2047 - 32ms/epoch - 2ms/step\n",
      "Epoch 8/100\n",
      "13/13 - 0s - loss: 1.8075 - accuracy: 0.1969 - 26ms/epoch - 2ms/step\n",
      "Epoch 9/100\n",
      "13/13 - 0s - loss: 1.8057 - accuracy: 0.2047 - 39ms/epoch - 3ms/step\n",
      "Epoch 10/100\n",
      "13/13 - 0s - loss: 1.8038 - accuracy: 0.2047 - 45ms/epoch - 3ms/step\n",
      "Epoch 11/100\n",
      "13/13 - 0s - loss: 1.8018 - accuracy: 0.2047 - 40ms/epoch - 3ms/step\n",
      "Epoch 12/100\n",
      "13/13 - 0s - loss: 1.8000 - accuracy: 0.2047 - 44ms/epoch - 3ms/step\n",
      "Epoch 13/100\n",
      "13/13 - 0s - loss: 1.7982 - accuracy: 0.2047 - 42ms/epoch - 3ms/step\n",
      "Epoch 14/100\n",
      "13/13 - 0s - loss: 1.7962 - accuracy: 0.2047 - 42ms/epoch - 3ms/step\n",
      "Epoch 15/100\n",
      "13/13 - 0s - loss: 1.7943 - accuracy: 0.2047 - 44ms/epoch - 3ms/step\n",
      "Epoch 16/100\n",
      "13/13 - 0s - loss: 1.7924 - accuracy: 0.2047 - 38ms/epoch - 3ms/step\n",
      "Epoch 17/100\n",
      "13/13 - 0s - loss: 1.7905 - accuracy: 0.2047 - 29ms/epoch - 2ms/step\n",
      "Epoch 18/100\n",
      "13/13 - 0s - loss: 1.7886 - accuracy: 0.2047 - 28ms/epoch - 2ms/step\n",
      "Epoch 19/100\n",
      "13/13 - 0s - loss: 1.7866 - accuracy: 0.2047 - 29ms/epoch - 2ms/step\n",
      "Epoch 20/100\n",
      "13/13 - 0s - loss: 1.7847 - accuracy: 0.2047 - 23ms/epoch - 2ms/step\n",
      "Epoch 21/100\n",
      "13/13 - 0s - loss: 1.7827 - accuracy: 0.2047 - 19ms/epoch - 1ms/step\n",
      "Epoch 22/100\n",
      "13/13 - 0s - loss: 1.7807 - accuracy: 0.2047 - 21ms/epoch - 2ms/step\n",
      "Epoch 23/100\n",
      "13/13 - 0s - loss: 1.7787 - accuracy: 0.2126 - 24ms/epoch - 2ms/step\n",
      "Epoch 24/100\n",
      "13/13 - 0s - loss: 1.7768 - accuracy: 0.2441 - 26ms/epoch - 2ms/step\n",
      "Epoch 25/100\n",
      "13/13 - 0s - loss: 1.7747 - accuracy: 0.2441 - 23ms/epoch - 2ms/step\n",
      "Epoch 26/100\n",
      "13/13 - 0s - loss: 1.7727 - accuracy: 0.2441 - 28ms/epoch - 2ms/step\n",
      "Epoch 27/100\n",
      "13/13 - 0s - loss: 1.7706 - accuracy: 0.2520 - 29ms/epoch - 2ms/step\n",
      "Epoch 28/100\n",
      "13/13 - 0s - loss: 1.7687 - accuracy: 0.2598 - 32ms/epoch - 2ms/step\n",
      "Epoch 29/100\n",
      "13/13 - 0s - loss: 1.7665 - accuracy: 0.2677 - 28ms/epoch - 2ms/step\n",
      "Epoch 30/100\n",
      "13/13 - 0s - loss: 1.7645 - accuracy: 0.2677 - 23ms/epoch - 2ms/step\n",
      "Epoch 31/100\n",
      "13/13 - 0s - loss: 1.7624 - accuracy: 0.2677 - 17ms/epoch - 1ms/step\n",
      "Epoch 32/100\n",
      "13/13 - 0s - loss: 1.7604 - accuracy: 0.2677 - 24ms/epoch - 2ms/step\n",
      "Epoch 33/100\n",
      "13/13 - 0s - loss: 1.7582 - accuracy: 0.2756 - 20ms/epoch - 2ms/step\n",
      "Epoch 34/100\n",
      "13/13 - 0s - loss: 1.7560 - accuracy: 0.2835 - 22ms/epoch - 2ms/step\n",
      "Epoch 35/100\n",
      "13/13 - 0s - loss: 1.7539 - accuracy: 0.2835 - 21ms/epoch - 2ms/step\n",
      "Epoch 36/100\n",
      "13/13 - 0s - loss: 1.7517 - accuracy: 0.2913 - 45ms/epoch - 3ms/step\n",
      "Epoch 37/100\n",
      "13/13 - 0s - loss: 1.7496 - accuracy: 0.2913 - 50ms/epoch - 4ms/step\n",
      "Epoch 38/100\n",
      "13/13 - 0s - loss: 1.7474 - accuracy: 0.2913 - 51ms/epoch - 4ms/step\n",
      "Epoch 39/100\n",
      "13/13 - 0s - loss: 1.7454 - accuracy: 0.2913 - 24ms/epoch - 2ms/step\n",
      "Epoch 40/100\n",
      "13/13 - 0s - loss: 1.7432 - accuracy: 0.2913 - 25ms/epoch - 2ms/step\n",
      "Epoch 41/100\n",
      "13/13 - 0s - loss: 1.7411 - accuracy: 0.2913 - 28ms/epoch - 2ms/step\n",
      "Epoch 42/100\n",
      "13/13 - 0s - loss: 1.7389 - accuracy: 0.2913 - 29ms/epoch - 2ms/step\n",
      "Epoch 43/100\n",
      "13/13 - 0s - loss: 1.7367 - accuracy: 0.2992 - 29ms/epoch - 2ms/step\n",
      "Epoch 44/100\n",
      "13/13 - 0s - loss: 1.7346 - accuracy: 0.2992 - 35ms/epoch - 3ms/step\n",
      "Epoch 45/100\n",
      "13/13 - 0s - loss: 1.7325 - accuracy: 0.2992 - 40ms/epoch - 3ms/step\n",
      "Epoch 46/100\n",
      "13/13 - 0s - loss: 1.7303 - accuracy: 0.2992 - 40ms/epoch - 3ms/step\n",
      "Epoch 47/100\n",
      "13/13 - 0s - loss: 1.7281 - accuracy: 0.2992 - 48ms/epoch - 4ms/step\n",
      "Epoch 48/100\n",
      "13/13 - 0s - loss: 1.7258 - accuracy: 0.2992 - 43ms/epoch - 3ms/step\n",
      "Epoch 49/100\n",
      "13/13 - 0s - loss: 1.7237 - accuracy: 0.2992 - 48ms/epoch - 4ms/step\n",
      "Epoch 50/100\n",
      "13/13 - 0s - loss: 1.7216 - accuracy: 0.2992 - 49ms/epoch - 4ms/step\n",
      "Epoch 51/100\n",
      "13/13 - 0s - loss: 1.7193 - accuracy: 0.2992 - 38ms/epoch - 3ms/step\n",
      "Epoch 52/100\n",
      "13/13 - 0s - loss: 1.7172 - accuracy: 0.3071 - 49ms/epoch - 4ms/step\n",
      "Epoch 53/100\n",
      "13/13 - 0s - loss: 1.7150 - accuracy: 0.3071 - 35ms/epoch - 3ms/step\n",
      "Epoch 54/100\n",
      "13/13 - 0s - loss: 1.7128 - accuracy: 0.3071 - 30ms/epoch - 2ms/step\n",
      "Epoch 55/100\n",
      "13/13 - 0s - loss: 1.7106 - accuracy: 0.3071 - 32ms/epoch - 2ms/step\n",
      "Epoch 56/100\n",
      "13/13 - 0s - loss: 1.7084 - accuracy: 0.3071 - 51ms/epoch - 4ms/step\n",
      "Epoch 57/100\n",
      "13/13 - 0s - loss: 1.7061 - accuracy: 0.3071 - 44ms/epoch - 3ms/step\n",
      "Epoch 58/100\n",
      "13/13 - 0s - loss: 1.7039 - accuracy: 0.3071 - 38ms/epoch - 3ms/step\n",
      "Epoch 59/100\n",
      "13/13 - 0s - loss: 1.7017 - accuracy: 0.3071 - 36ms/epoch - 3ms/step\n",
      "Epoch 60/100\n",
      "13/13 - 0s - loss: 1.6994 - accuracy: 0.3150 - 34ms/epoch - 3ms/step\n",
      "Epoch 61/100\n",
      "13/13 - 0s - loss: 1.6971 - accuracy: 0.3150 - 26ms/epoch - 2ms/step\n",
      "Epoch 62/100\n",
      "13/13 - 0s - loss: 1.6947 - accuracy: 0.3150 - 27ms/epoch - 2ms/step\n",
      "Epoch 63/100\n",
      "13/13 - 0s - loss: 1.6924 - accuracy: 0.3228 - 42ms/epoch - 3ms/step\n",
      "Epoch 64/100\n",
      "13/13 - 0s - loss: 1.6900 - accuracy: 0.3228 - 31ms/epoch - 2ms/step\n",
      "Epoch 65/100\n",
      "13/13 - 0s - loss: 1.6876 - accuracy: 0.3228 - 31ms/epoch - 2ms/step\n",
      "Epoch 66/100\n",
      "13/13 - 0s - loss: 1.6850 - accuracy: 0.3228 - 30ms/epoch - 2ms/step\n",
      "Epoch 67/100\n",
      "13/13 - 0s - loss: 1.6826 - accuracy: 0.3228 - 49ms/epoch - 4ms/step\n",
      "Epoch 68/100\n",
      "13/13 - 0s - loss: 1.6801 - accuracy: 0.3228 - 46ms/epoch - 4ms/step\n",
      "Epoch 69/100\n",
      "13/13 - 0s - loss: 1.6774 - accuracy: 0.3228 - 42ms/epoch - 3ms/step\n",
      "Epoch 70/100\n",
      "13/13 - 0s - loss: 1.6750 - accuracy: 0.3228 - 41ms/epoch - 3ms/step\n",
      "Epoch 71/100\n",
      "13/13 - 0s - loss: 1.6724 - accuracy: 0.3307 - 44ms/epoch - 3ms/step\n",
      "Epoch 72/100\n",
      "13/13 - 0s - loss: 1.6699 - accuracy: 0.3386 - 45ms/epoch - 3ms/step\n",
      "Epoch 73/100\n",
      "13/13 - 0s - loss: 1.6675 - accuracy: 0.3386 - 33ms/epoch - 3ms/step\n",
      "Epoch 74/100\n",
      "13/13 - 0s - loss: 1.6649 - accuracy: 0.3386 - 21ms/epoch - 2ms/step\n",
      "Epoch 75/100\n",
      "13/13 - 0s - loss: 1.6625 - accuracy: 0.3465 - 20ms/epoch - 2ms/step\n",
      "Epoch 76/100\n",
      "13/13 - 0s - loss: 1.6601 - accuracy: 0.3465 - 25ms/epoch - 2ms/step\n",
      "Epoch 77/100\n",
      "13/13 - 0s - loss: 1.6577 - accuracy: 0.3465 - 24ms/epoch - 2ms/step\n",
      "Epoch 78/100\n",
      "13/13 - 0s - loss: 1.6552 - accuracy: 0.3465 - 22ms/epoch - 2ms/step\n",
      "Epoch 79/100\n",
      "13/13 - 0s - loss: 1.6529 - accuracy: 0.3465 - 27ms/epoch - 2ms/step\n",
      "Epoch 80/100\n",
      "13/13 - 0s - loss: 1.6503 - accuracy: 0.3465 - 29ms/epoch - 2ms/step\n",
      "Epoch 81/100\n",
      "13/13 - 0s - loss: 1.6478 - accuracy: 0.3543 - 30ms/epoch - 2ms/step\n",
      "Epoch 82/100\n",
      "13/13 - 0s - loss: 1.6454 - accuracy: 0.3543 - 26ms/epoch - 2ms/step\n",
      "Epoch 83/100\n",
      "13/13 - 0s - loss: 1.6429 - accuracy: 0.3543 - 30ms/epoch - 2ms/step\n",
      "Epoch 84/100\n",
      "13/13 - 0s - loss: 1.6404 - accuracy: 0.3622 - 28ms/epoch - 2ms/step\n",
      "Epoch 85/100\n",
      "13/13 - 0s - loss: 1.6381 - accuracy: 0.3622 - 22ms/epoch - 2ms/step\n",
      "Epoch 86/100\n",
      "13/13 - 0s - loss: 1.6355 - accuracy: 0.3701 - 24ms/epoch - 2ms/step\n",
      "Epoch 87/100\n",
      "13/13 - 0s - loss: 1.6330 - accuracy: 0.3780 - 21ms/epoch - 2ms/step\n",
      "Epoch 88/100\n",
      "13/13 - 0s - loss: 1.6305 - accuracy: 0.3858 - 25ms/epoch - 2ms/step\n",
      "Epoch 89/100\n",
      "13/13 - 0s - loss: 1.6279 - accuracy: 0.4016 - 25ms/epoch - 2ms/step\n",
      "Epoch 90/100\n",
      "13/13 - 0s - loss: 1.6254 - accuracy: 0.4094 - 23ms/epoch - 2ms/step\n",
      "Epoch 91/100\n",
      "13/13 - 0s - loss: 1.6230 - accuracy: 0.4173 - 22ms/epoch - 2ms/step\n",
      "Epoch 92/100\n",
      "13/13 - 0s - loss: 1.6204 - accuracy: 0.4173 - 25ms/epoch - 2ms/step\n",
      "Epoch 93/100\n",
      "13/13 - 0s - loss: 1.6179 - accuracy: 0.4173 - 26ms/epoch - 2ms/step\n",
      "Epoch 94/100\n",
      "13/13 - 0s - loss: 1.6155 - accuracy: 0.4173 - 22ms/epoch - 2ms/step\n",
      "Epoch 95/100\n",
      "13/13 - 0s - loss: 1.6130 - accuracy: 0.4173 - 22ms/epoch - 2ms/step\n",
      "Epoch 96/100\n",
      "13/13 - 0s - loss: 1.6105 - accuracy: 0.4173 - 26ms/epoch - 2ms/step\n",
      "Epoch 97/100\n",
      "13/13 - 0s - loss: 1.6080 - accuracy: 0.4252 - 23ms/epoch - 2ms/step\n",
      "Epoch 98/100\n",
      "13/13 - 0s - loss: 1.6055 - accuracy: 0.4331 - 23ms/epoch - 2ms/step\n",
      "Epoch 99/100\n",
      "13/13 - 0s - loss: 1.6030 - accuracy: 0.4331 - 22ms/epoch - 2ms/step\n",
      "Epoch 100/100\n",
      "13/13 - 0s - loss: 1.6006 - accuracy: 0.4409 - 21ms/epoch - 2ms/step\n"
     ]
    }
   ],
   "source": [
    "hist2 = model.fit(x=X_train_scaled,y=y_train,batch_size=10,epochs=100,verbose=2)"
   ]
  },
  {
   "cell_type": "code",
   "execution_count": 39,
   "metadata": {},
   "outputs": [
    {
     "data": {
      "image/png": "[encoded data removed]",
      "text/plain": [
       "<Figure size 640x480 with 1 Axes>"
      ]
     },
     "metadata": {},
     "output_type": "display_data"
    }
   ],
   "source": [
    "fig = plt.figure()\n",
    "plt.plot(hist2.history['loss'],color = 'teal',label = 'loss')\n",
    "plt.plot(hist2.history['accuracy'],color = 'orange',label = 'accuracy')\n",
    "fig.suptitle('Loss', fontsize=20)\n",
    "plt.legend(loc='upper right')\n",
    "plt.show()"
   ]
  },
  {
   "cell_type": "code",
   "execution_count": 21,
   "metadata": {},
   "outputs": [],
   "source": [
    "y_pred = model.predict(X_test_scaled,batch_size=10,verbose=0)"
   ]
  },
  {
   "cell_type": "code",
   "execution_count": 25,
   "metadata": {},
   "outputs": [
    {
     "name": "stdout",
     "output_type": "stream",
     "text": [
      "\u001b[1;31mInit signature:\u001b[0m\n",
      "\u001b[0mPrecision\u001b[0m\u001b[1;33m(\u001b[0m\u001b[1;33m\n",
      "\u001b[0m    \u001b[0mthresholds\u001b[0m\u001b[1;33m=\u001b[0m\u001b[1;32mNone\u001b[0m\u001b[1;33m,\u001b[0m\u001b[1;33m\n",
      "\u001b[0m    \u001b[0mtop_k\u001b[0m\u001b[1;33m=\u001b[0m\u001b[1;32mNone\u001b[0m\u001b[1;33m,\u001b[0m\u001b[1;33m\n",
      "\u001b[0m    \u001b[0mclass_id\u001b[0m\u001b[1;33m=\u001b[0m\u001b[1;32mNone\u001b[0m\u001b[1;33m,\u001b[0m\u001b[1;33m\n",
      "\u001b[0m    \u001b[0mname\u001b[0m\u001b[1;33m=\u001b[0m\u001b[1;32mNone\u001b[0m\u001b[1;33m,\u001b[0m\u001b[1;33m\n",
      "\u001b[0m    \u001b[0mdtype\u001b[0m\u001b[1;33m=\u001b[0m\u001b[1;32mNone\u001b[0m\u001b[1;33m,\u001b[0m\u001b[1;33m\n",
      "\u001b[0m\u001b[1;33m)\u001b[0m\u001b[1;33m\u001b[0m\u001b[1;33m\u001b[0m\u001b[0m\n",
      "\u001b[1;31mSource:\u001b[0m        \n",
      "\u001b[1;33m@\u001b[0m\u001b[0mkeras_export\u001b[0m\u001b[1;33m(\u001b[0m\u001b[1;34m\"keras.metrics.Precision\"\u001b[0m\u001b[1;33m)\u001b[0m\u001b[1;33m\n",
      "\u001b[0m\u001b[1;32mclass\u001b[0m \u001b[0mPrecision\u001b[0m\u001b[1;33m(\u001b[0m\u001b[0mbase_metric\u001b[0m\u001b[1;33m.\u001b[0m\u001b[0mMetric\u001b[0m\u001b[1;33m)\u001b[0m\u001b[1;33m:\u001b[0m\u001b[1;33m\n",
      "\u001b[0m    \u001b[1;34m\"\"\"Computes the precision of the predictions with respect to the labels.\n",
      "\n",
      "    The metric creates two local variables, `true_positives` and\n",
      "    `false_positives` that are used to compute the precision. This value is\n",
      "    ultimately returned as `precision`, an idempotent operation that simply\n",
      "    divides `true_positives` by the sum of `true_positives` and\n",
      "    `false_positives`.\n",
      "\n",
      "    If `sample_weight` is `None`, weights default to 1.\n",
      "    Use `sample_weight` of 0 to mask values.\n",
      "\n",
      "    If `top_k` is set, we'll calculate precision as how often on average a class\n",
      "    among the top-k classes with the highest predicted values of a batch entry\n",
      "    is correct and can be found in the label for that entry.\n",
      "\n",
      "    If `class_id` is specified, we calculate precision by considering only the\n",
      "    entries in the batch for which `class_id` is above the threshold and/or in\n",
      "    the top-k highest predictions, and computing the fraction of them for which\n",
      "    `class_id` is indeed a correct label.\n",
      "\n",
      "    Args:\n",
      "      thresholds: (Optional) A float value, or a Python list/tuple of float\n",
      "        threshold values in [0, 1]. A threshold is compared with prediction\n",
      "        values to determine the truth value of predictions (i.e., above the\n",
      "        threshold is `true`, below is `false`). If used with a loss function\n",
      "        that sets `from_logits=True` (i.e. no sigmoid applied to predictions),\n",
      "        `thresholds` should be set to 0. One metric value is generated for each\n",
      "        threshold value. If neither thresholds nor top_k are set, the default is\n",
      "        to calculate precision with `thresholds=0.5`.\n",
      "      top_k: (Optional) Unset by default. An int value specifying the top-k\n",
      "        predictions to consider when calculating precision.\n",
      "      class_id: (Optional) Integer class ID for which we want binary metrics.\n",
      "        This must be in the half-open interval `[0, num_classes)`, where\n",
      "        `num_classes` is the last dimension of predictions.\n",
      "      name: (Optional) string name of the metric instance.\n",
      "      dtype: (Optional) data type of the metric result.\n",
      "\n",
      "    Standalone usage:\n",
      "\n",
      "    >>> m = tf.keras.metrics.Precision()\n",
      "    >>> m.update_state([0, 1, 1, 1], [1, 0, 1, 1])\n",
      "    >>> m.result().numpy()\n",
      "    0.6666667\n",
      "\n",
      "    >>> m.reset_state()\n",
      "    >>> m.update_state([0, 1, 1, 1], [1, 0, 1, 1], sample_weight=[0, 0, 1, 0])\n",
      "    >>> m.result().numpy()\n",
      "    1.0\n",
      "\n",
      "    >>> # With top_k=2, it will calculate precision over y_true[:2]\n",
      "    >>> # and y_pred[:2]\n",
      "    >>> m = tf.keras.metrics.Precision(top_k=2)\n",
      "    >>> m.update_state([0, 0, 1, 1], [1, 1, 1, 1])\n",
      "    >>> m.result().numpy()\n",
      "    0.0\n",
      "\n",
      "    >>> # With top_k=4, it will calculate precision over y_true[:4]\n",
      "    >>> # and y_pred[:4]\n",
      "    >>> m = tf.keras.metrics.Precision(top_k=4)\n",
      "    >>> m.update_state([0, 0, 1, 1], [1, 1, 1, 1])\n",
      "    >>> m.result().numpy()\n",
      "    0.5\n",
      "\n",
      "    Usage with `compile()` API:\n",
      "\n",
      "    ```python\n",
      "    model.compile(optimizer='sgd',\n",
      "                  loss='mse',\n",
      "                  metrics=[tf.keras.metrics.Precision()])\n",
      "    ```\n",
      "\n",
      "    Usage with a loss with `from_logits=True`:\n",
      "\n",
      "    ```python\n",
      "    model.compile(optimizer='adam',\n",
      "                  loss=tf.keras.losses.BinaryCrossentropy(from_logits=True),\n",
      "                  metrics=[tf.keras.metrics.Precision(thresholds=0)])\n",
      "    ```\n",
      "    \"\"\"\u001b[0m\u001b[1;33m\n",
      "\u001b[0m\u001b[1;33m\n",
      "\u001b[0m    \u001b[1;33m@\u001b[0m\u001b[0mdtensor_utils\u001b[0m\u001b[1;33m.\u001b[0m\u001b[0minject_mesh\u001b[0m\u001b[1;33m\n",
      "\u001b[0m    \u001b[1;32mdef\u001b[0m \u001b[0m__init__\u001b[0m\u001b[1;33m(\u001b[0m\u001b[1;33m\n",
      "\u001b[0m        \u001b[0mself\u001b[0m\u001b[1;33m,\u001b[0m \u001b[0mthresholds\u001b[0m\u001b[1;33m=\u001b[0m\u001b[1;32mNone\u001b[0m\u001b[1;33m,\u001b[0m \u001b[0mtop_k\u001b[0m\u001b[1;33m=\u001b[0m\u001b[1;32mNone\u001b[0m\u001b[1;33m,\u001b[0m \u001b[0mclass_id\u001b[0m\u001b[1;33m=\u001b[0m\u001b[1;32mNone\u001b[0m\u001b[1;33m,\u001b[0m \u001b[0mname\u001b[0m\u001b[1;33m=\u001b[0m\u001b[1;32mNone\u001b[0m\u001b[1;33m,\u001b[0m \u001b[0mdtype\u001b[0m\u001b[1;33m=\u001b[0m\u001b[1;32mNone\u001b[0m\u001b[1;33m\n",
      "\u001b[0m    \u001b[1;33m)\u001b[0m\u001b[1;33m:\u001b[0m\u001b[1;33m\n",
      "\u001b[0m        \u001b[0msuper\u001b[0m\u001b[1;33m(\u001b[0m\u001b[1;33m)\u001b[0m\u001b[1;33m.\u001b[0m\u001b[0m__init__\u001b[0m\u001b[1;33m(\u001b[0m\u001b[0mname\u001b[0m\u001b[1;33m=\u001b[0m\u001b[0mname\u001b[0m\u001b[1;33m,\u001b[0m \u001b[0mdtype\u001b[0m\u001b[1;33m=\u001b[0m\u001b[0mdtype\u001b[0m\u001b[1;33m)\u001b[0m\u001b[1;33m\n",
      "\u001b[0m        \u001b[0mself\u001b[0m\u001b[1;33m.\u001b[0m\u001b[0minit_thresholds\u001b[0m \u001b[1;33m=\u001b[0m \u001b[0mthresholds\u001b[0m\u001b[1;33m\n",
      "\u001b[0m        \u001b[0mself\u001b[0m\u001b[1;33m.\u001b[0m\u001b[0mtop_k\u001b[0m \u001b[1;33m=\u001b[0m \u001b[0mtop_k\u001b[0m\u001b[1;33m\n",
      "\u001b[0m        \u001b[0mself\u001b[0m\u001b[1;33m.\u001b[0m\u001b[0mclass_id\u001b[0m \u001b[1;33m=\u001b[0m \u001b[0mclass_id\u001b[0m\u001b[1;33m\n",
      "\u001b[0m\u001b[1;33m\n",
      "\u001b[0m        \u001b[0mdefault_threshold\u001b[0m \u001b[1;33m=\u001b[0m \u001b[1;36m0.5\u001b[0m \u001b[1;32mif\u001b[0m \u001b[0mtop_k\u001b[0m \u001b[1;32mis\u001b[0m \u001b[1;32mNone\u001b[0m \u001b[1;32melse\u001b[0m \u001b[0mmetrics_utils\u001b[0m\u001b[1;33m.\u001b[0m\u001b[0mNEG_INF\u001b[0m\u001b[1;33m\n",
      "\u001b[0m        \u001b[0mself\u001b[0m\u001b[1;33m.\u001b[0m\u001b[0mthresholds\u001b[0m \u001b[1;33m=\u001b[0m \u001b[0mmetrics_utils\u001b[0m\u001b[1;33m.\u001b[0m\u001b[0mparse_init_thresholds\u001b[0m\u001b[1;33m(\u001b[0m\u001b[1;33m\n",
      "\u001b[0m            \u001b[0mthresholds\u001b[0m\u001b[1;33m,\u001b[0m \u001b[0mdefault_threshold\u001b[0m\u001b[1;33m=\u001b[0m\u001b[0mdefault_threshold\u001b[0m\u001b[1;33m\n",
      "\u001b[0m        \u001b[1;33m)\u001b[0m\u001b[1;33m\n",
      "\u001b[0m        \u001b[0mself\u001b[0m\u001b[1;33m.\u001b[0m\u001b[0m_thresholds_distributed_evenly\u001b[0m \u001b[1;33m=\u001b[0m \u001b[1;33m(\u001b[0m\u001b[1;33m\n",
      "\u001b[0m            \u001b[0mmetrics_utils\u001b[0m\u001b[1;33m.\u001b[0m\u001b[0mis_evenly_distributed_thresholds\u001b[0m\u001b[1;33m(\u001b[0m\u001b[0mself\u001b[0m\u001b[1;33m.\u001b[0m\u001b[0mthresholds\u001b[0m\u001b[1;33m)\u001b[0m\u001b[1;33m\n",
      "\u001b[0m        \u001b[1;33m)\u001b[0m\u001b[1;33m\n",
      "\u001b[0m        \u001b[0mself\u001b[0m\u001b[1;33m.\u001b[0m\u001b[0mtrue_positives\u001b[0m \u001b[1;33m=\u001b[0m \u001b[0mself\u001b[0m\u001b[1;33m.\u001b[0m\u001b[0madd_weight\u001b[0m\u001b[1;33m(\u001b[0m\u001b[1;33m\n",
      "\u001b[0m            \u001b[1;34m\"true_positives\"\u001b[0m\u001b[1;33m,\u001b[0m \u001b[0mshape\u001b[0m\u001b[1;33m=\u001b[0m\u001b[1;33m(\u001b[0m\u001b[0mlen\u001b[0m\u001b[1;33m(\u001b[0m\u001b[0mself\u001b[0m\u001b[1;33m.\u001b[0m\u001b[0mthresholds\u001b[0m\u001b[1;33m)\u001b[0m\u001b[1;33m,\u001b[0m\u001b[1;33m)\u001b[0m\u001b[1;33m,\u001b[0m \u001b[0minitializer\u001b[0m\u001b[1;33m=\u001b[0m\u001b[1;34m\"zeros\"\u001b[0m\u001b[1;33m\n",
      "\u001b[0m        \u001b[1;33m)\u001b[0m\u001b[1;33m\n",
      "\u001b[0m        \u001b[0mself\u001b[0m\u001b[1;33m.\u001b[0m\u001b[0mfalse_positives\u001b[0m \u001b[1;33m=\u001b[0m \u001b[0mself\u001b[0m\u001b[1;33m.\u001b[0m\u001b[0madd_weight\u001b[0m\u001b[1;33m(\u001b[0m\u001b[1;33m\n",
      "\u001b[0m            \u001b[1;34m\"false_positives\"\u001b[0m\u001b[1;33m,\u001b[0m\u001b[1;33m\n",
      "\u001b[0m            \u001b[0mshape\u001b[0m\u001b[1;33m=\u001b[0m\u001b[1;33m(\u001b[0m\u001b[0mlen\u001b[0m\u001b[1;33m(\u001b[0m\u001b[0mself\u001b[0m\u001b[1;33m.\u001b[0m\u001b[0mthresholds\u001b[0m\u001b[1;33m)\u001b[0m\u001b[1;33m,\u001b[0m\u001b[1;33m)\u001b[0m\u001b[1;33m,\u001b[0m\u001b[1;33m\n",
      "\u001b[0m            \u001b[0minitializer\u001b[0m\u001b[1;33m=\u001b[0m\u001b[1;34m\"zeros\"\u001b[0m\u001b[1;33m,\u001b[0m\u001b[1;33m\n",
      "\u001b[0m        \u001b[1;33m)\u001b[0m\u001b[1;33m\n",
      "\u001b[0m\u001b[1;33m\n",
      "\u001b[0m    \u001b[1;32mdef\u001b[0m \u001b[0mupdate_state\u001b[0m\u001b[1;33m(\u001b[0m\u001b[0mself\u001b[0m\u001b[1;33m,\u001b[0m \u001b[0my_true\u001b[0m\u001b[1;33m,\u001b[0m \u001b[0my_pred\u001b[0m\u001b[1;33m,\u001b[0m \u001b[0msample_weight\u001b[0m\u001b[1;33m=\u001b[0m\u001b[1;32mNone\u001b[0m\u001b[1;33m)\u001b[0m\u001b[1;33m:\u001b[0m\u001b[1;33m\n",
      "\u001b[0m        \u001b[1;34m\"\"\"Accumulates true positive and false positive statistics.\n",
      "\n",
      "        Args:\n",
      "          y_true: The ground truth values, with the same dimensions as `y_pred`.\n",
      "            Will be cast to `bool`.\n",
      "          y_pred: The predicted values. Each element must be in the range\n",
      "            `[0, 1]`.\n",
      "          sample_weight: Optional weighting of each example. Defaults to 1. Can\n",
      "            be a `Tensor` whose rank is either 0, or the same rank as `y_true`,\n",
      "            and must be broadcastable to `y_true`.\n",
      "\n",
      "        Returns:\n",
      "          Update op.\n",
      "        \"\"\"\u001b[0m\u001b[1;33m\n",
      "\u001b[0m        \u001b[1;32mreturn\u001b[0m \u001b[0mmetrics_utils\u001b[0m\u001b[1;33m.\u001b[0m\u001b[0mupdate_confusion_matrix_variables\u001b[0m\u001b[1;33m(\u001b[0m\u001b[1;33m\n",
      "\u001b[0m            \u001b[1;33m{\u001b[0m\u001b[1;33m\n",
      "\u001b[0m                \u001b[0mmetrics_utils\u001b[0m\u001b[1;33m.\u001b[0m\u001b[0mConfusionMatrix\u001b[0m\u001b[1;33m.\u001b[0m\u001b[0mTRUE_POSITIVES\u001b[0m\u001b[1;33m:\u001b[0m \u001b[0mself\u001b[0m\u001b[1;33m.\u001b[0m\u001b[0mtrue_positives\u001b[0m\u001b[1;33m,\u001b[0m  \u001b[1;31m# noqa: E501\u001b[0m\u001b[1;33m\n",
      "\u001b[0m                \u001b[0mmetrics_utils\u001b[0m\u001b[1;33m.\u001b[0m\u001b[0mConfusionMatrix\u001b[0m\u001b[1;33m.\u001b[0m\u001b[0mFALSE_POSITIVES\u001b[0m\u001b[1;33m:\u001b[0m \u001b[0mself\u001b[0m\u001b[1;33m.\u001b[0m\u001b[0mfalse_positives\u001b[0m\u001b[1;33m,\u001b[0m  \u001b[1;31m# noqa: E501\u001b[0m\u001b[1;33m\n",
      "\u001b[0m            \u001b[1;33m}\u001b[0m\u001b[1;33m,\u001b[0m\u001b[1;33m\n",
      "\u001b[0m            \u001b[0my_true\u001b[0m\u001b[1;33m,\u001b[0m\u001b[1;33m\n",
      "\u001b[0m            \u001b[0my_pred\u001b[0m\u001b[1;33m,\u001b[0m\u001b[1;33m\n",
      "\u001b[0m            \u001b[0mthresholds\u001b[0m\u001b[1;33m=\u001b[0m\u001b[0mself\u001b[0m\u001b[1;33m.\u001b[0m\u001b[0mthresholds\u001b[0m\u001b[1;33m,\u001b[0m\u001b[1;33m\n",
      "\u001b[0m            \u001b[0mthresholds_distributed_evenly\u001b[0m\u001b[1;33m=\u001b[0m\u001b[0mself\u001b[0m\u001b[1;33m.\u001b[0m\u001b[0m_thresholds_distributed_evenly\u001b[0m\u001b[1;33m,\u001b[0m\u001b[1;33m\n",
      "\u001b[0m            \u001b[0mtop_k\u001b[0m\u001b[1;33m=\u001b[0m\u001b[0mself\u001b[0m\u001b[1;33m.\u001b[0m\u001b[0mtop_k\u001b[0m\u001b[1;33m,\u001b[0m\u001b[1;33m\n",
      "\u001b[0m            \u001b[0mclass_id\u001b[0m\u001b[1;33m=\u001b[0m\u001b[0mself\u001b[0m\u001b[1;33m.\u001b[0m\u001b[0mclass_id\u001b[0m\u001b[1;33m,\u001b[0m\u001b[1;33m\n",
      "\u001b[0m            \u001b[0msample_weight\u001b[0m\u001b[1;33m=\u001b[0m\u001b[0msample_weight\u001b[0m\u001b[1;33m,\u001b[0m\u001b[1;33m\n",
      "\u001b[0m        \u001b[1;33m)\u001b[0m\u001b[1;33m\n",
      "\u001b[0m\u001b[1;33m\n",
      "\u001b[0m    \u001b[1;32mdef\u001b[0m \u001b[0mresult\u001b[0m\u001b[1;33m(\u001b[0m\u001b[0mself\u001b[0m\u001b[1;33m)\u001b[0m\u001b[1;33m:\u001b[0m\u001b[1;33m\n",
      "\u001b[0m        \u001b[0mresult\u001b[0m \u001b[1;33m=\u001b[0m \u001b[0mtf\u001b[0m\u001b[1;33m.\u001b[0m\u001b[0mmath\u001b[0m\u001b[1;33m.\u001b[0m\u001b[0mdivide_no_nan\u001b[0m\u001b[1;33m(\u001b[0m\u001b[1;33m\n",
      "\u001b[0m            \u001b[0mself\u001b[0m\u001b[1;33m.\u001b[0m\u001b[0mtrue_positives\u001b[0m\u001b[1;33m,\u001b[0m\u001b[1;33m\n",
      "\u001b[0m            \u001b[0mtf\u001b[0m\u001b[1;33m.\u001b[0m\u001b[0mmath\u001b[0m\u001b[1;33m.\u001b[0m\u001b[0madd\u001b[0m\u001b[1;33m(\u001b[0m\u001b[0mself\u001b[0m\u001b[1;33m.\u001b[0m\u001b[0mtrue_positives\u001b[0m\u001b[1;33m,\u001b[0m \u001b[0mself\u001b[0m\u001b[1;33m.\u001b[0m\u001b[0mfalse_positives\u001b[0m\u001b[1;33m)\u001b[0m\u001b[1;33m,\u001b[0m\u001b[1;33m\n",
      "\u001b[0m        \u001b[1;33m)\u001b[0m\u001b[1;33m\n",
      "\u001b[0m        \u001b[1;32mreturn\u001b[0m \u001b[0mresult\u001b[0m\u001b[1;33m[\u001b[0m\u001b[1;36m0\u001b[0m\u001b[1;33m]\u001b[0m \u001b[1;32mif\u001b[0m \u001b[0mlen\u001b[0m\u001b[1;33m(\u001b[0m\u001b[0mself\u001b[0m\u001b[1;33m.\u001b[0m\u001b[0mthresholds\u001b[0m\u001b[1;33m)\u001b[0m \u001b[1;33m==\u001b[0m \u001b[1;36m1\u001b[0m \u001b[1;32melse\u001b[0m \u001b[0mresult\u001b[0m\u001b[1;33m\n",
      "\u001b[0m\u001b[1;33m\n",
      "\u001b[0m    \u001b[1;32mdef\u001b[0m \u001b[0mreset_state\u001b[0m\u001b[1;33m(\u001b[0m\u001b[0mself\u001b[0m\u001b[1;33m)\u001b[0m\u001b[1;33m:\u001b[0m\u001b[1;33m\n",
      "\u001b[0m        \u001b[0mnum_thresholds\u001b[0m \u001b[1;33m=\u001b[0m \u001b[0mlen\u001b[0m\u001b[1;33m(\u001b[0m\u001b[0mto_list\u001b[0m\u001b[1;33m(\u001b[0m\u001b[0mself\u001b[0m\u001b[1;33m.\u001b[0m\u001b[0mthresholds\u001b[0m\u001b[1;33m)\u001b[0m\u001b[1;33m)\u001b[0m\u001b[1;33m\n",
      "\u001b[0m        \u001b[0mbackend\u001b[0m\u001b[1;33m.\u001b[0m\u001b[0mbatch_set_value\u001b[0m\u001b[1;33m(\u001b[0m\u001b[1;33m\n",
      "\u001b[0m            \u001b[1;33m[\u001b[0m\u001b[1;33m\n",
      "\u001b[0m                \u001b[1;33m(\u001b[0m\u001b[0mv\u001b[0m\u001b[1;33m,\u001b[0m \u001b[0mnp\u001b[0m\u001b[1;33m.\u001b[0m\u001b[0mzeros\u001b[0m\u001b[1;33m(\u001b[0m\u001b[1;33m(\u001b[0m\u001b[0mnum_thresholds\u001b[0m\u001b[1;33m,\u001b[0m\u001b[1;33m)\u001b[0m\u001b[1;33m)\u001b[0m\u001b[1;33m)\u001b[0m\u001b[1;33m\n",
      "\u001b[0m                \u001b[1;32mfor\u001b[0m \u001b[0mv\u001b[0m \u001b[1;32min\u001b[0m \u001b[1;33m(\u001b[0m\u001b[0mself\u001b[0m\u001b[1;33m.\u001b[0m\u001b[0mtrue_positives\u001b[0m\u001b[1;33m,\u001b[0m \u001b[0mself\u001b[0m\u001b[1;33m.\u001b[0m\u001b[0mfalse_positives\u001b[0m\u001b[1;33m)\u001b[0m\u001b[1;33m\n",
      "\u001b[0m            \u001b[1;33m]\u001b[0m\u001b[1;33m\n",
      "\u001b[0m        \u001b[1;33m)\u001b[0m\u001b[1;33m\n",
      "\u001b[0m\u001b[1;33m\n",
      "\u001b[0m    \u001b[1;32mdef\u001b[0m \u001b[0mget_config\u001b[0m\u001b[1;33m(\u001b[0m\u001b[0mself\u001b[0m\u001b[1;33m)\u001b[0m\u001b[1;33m:\u001b[0m\u001b[1;33m\n",
      "\u001b[0m        \u001b[0mconfig\u001b[0m \u001b[1;33m=\u001b[0m \u001b[1;33m{\u001b[0m\u001b[1;33m\n",
      "\u001b[0m            \u001b[1;34m\"thresholds\"\u001b[0m\u001b[1;33m:\u001b[0m \u001b[0mself\u001b[0m\u001b[1;33m.\u001b[0m\u001b[0minit_thresholds\u001b[0m\u001b[1;33m,\u001b[0m\u001b[1;33m\n",
      "\u001b[0m            \u001b[1;34m\"top_k\"\u001b[0m\u001b[1;33m:\u001b[0m \u001b[0mself\u001b[0m\u001b[1;33m.\u001b[0m\u001b[0mtop_k\u001b[0m\u001b[1;33m,\u001b[0m\u001b[1;33m\n",
      "\u001b[0m            \u001b[1;34m\"class_id\"\u001b[0m\u001b[1;33m:\u001b[0m \u001b[0mself\u001b[0m\u001b[1;33m.\u001b[0m\u001b[0mclass_id\u001b[0m\u001b[1;33m,\u001b[0m\u001b[1;33m\n",
      "\u001b[0m        \u001b[1;33m}\u001b[0m\u001b[1;33m\n",
      "\u001b[0m        \u001b[0mbase_config\u001b[0m \u001b[1;33m=\u001b[0m \u001b[0msuper\u001b[0m\u001b[1;33m(\u001b[0m\u001b[1;33m)\u001b[0m\u001b[1;33m.\u001b[0m\u001b[0mget_config\u001b[0m\u001b[1;33m(\u001b[0m\u001b[1;33m)\u001b[0m\u001b[1;33m\n",
      "\u001b[0m        \u001b[1;32mreturn\u001b[0m \u001b[0mdict\u001b[0m\u001b[1;33m(\u001b[0m\u001b[0mlist\u001b[0m\u001b[1;33m(\u001b[0m\u001b[0mbase_config\u001b[0m\u001b[1;33m.\u001b[0m\u001b[0mitems\u001b[0m\u001b[1;33m(\u001b[0m\u001b[1;33m)\u001b[0m\u001b[1;33m)\u001b[0m \u001b[1;33m+\u001b[0m \u001b[0mlist\u001b[0m\u001b[1;33m(\u001b[0m\u001b[0mconfig\u001b[0m\u001b[1;33m.\u001b[0m\u001b[0mitems\u001b[0m\u001b[1;33m(\u001b[0m\u001b[1;33m)\u001b[0m\u001b[1;33m)\u001b[0m\u001b[1;33m)\u001b[0m\u001b[1;33m\u001b[0m\u001b[1;33m\u001b[0m\u001b[0m\n",
      "\u001b[1;31mFile:\u001b[0m           c:\\users\\sujan acharya\\appdata\\local\\packages\\pythonsoftwarefoundation.python.3.10_qbz5n2kfra8p0\\localcache\\local-packages\\python310\\site-packages\\keras\\metrics\\metrics.py\n",
      "\u001b[1;31mType:\u001b[0m           ABCMeta\n",
      "\u001b[1;31mSubclasses:\u001b[0m     "
     ]
    }
   ],
   "source": [
    "Precision??"
   ]
  },
  {
   "cell_type": "code",
   "execution_count": null,
   "metadata": {},
   "outputs": [],
   "source": []
  }
 ],
 "metadata": {
  "kernelspec": {
   "display_name": "Python 3",
   "language": "python",
   "name": "python3"
  },
  "language_info": {
   "codemirror_mode": {
    "name": "ipython",
    "version": 3
   },
   "file_extension": ".py",
   "mimetype": "text/x-python",
   "name": "python",
   "nbconvert_exporter": "python",
   "pygments_lexer": "ipython3",
   "version": "3.10.11"
  },
  "orig_nbformat": 4
 },
 "nbformat": 4,
 "nbformat_minor": 2
}
