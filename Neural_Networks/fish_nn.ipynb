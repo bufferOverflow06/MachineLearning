{
 "cells": [
  {
   "cell_type": "code",
   "execution_count": 44,
   "metadata": {},
   "outputs": [],
   "source": [
    "import pandas as pd\n",
    "import numpy as np\n",
    "import matplotlib.pyplot as plt\n",
    "import seaborn as sns\n",
    "from sklearn.preprocessing import MinMaxScaler, StandardScaler\n",
    "import tensorflow as tf\n",
    "from tensorflow import keras\n",
    "from tensorflow.keras.models import Sequential\n",
    "from tensorflow.keras.layers import Dense, Activation\n",
    "from tensorflow.keras.optimizers import Adam\n",
    "from tensorflow.keras.metrics import categorical_crossentropy"
   ]
  },
  {
   "cell_type": "code",
   "execution_count": 45,
   "metadata": {},
   "outputs": [
    {
     "data": {
      "text/html": [
       "<div>\n",
       "<style scoped>\n",
       "    .dataframe tbody tr th:only-of-type {\n",
       "        vertical-align: middle;\n",
       "    }\n",
       "\n",
       "    .dataframe tbody tr th {\n",
       "        vertical-align: top;\n",
       "    }\n",
       "\n",
       "    .dataframe thead th {\n",
       "        text-align: right;\n",
       "    }\n",
       "</style>\n",
       "<table border=\"1\" class=\"dataframe\">\n",
       "  <thead>\n",
       "    <tr style=\"text-align: right;\">\n",
       "      <th></th>\n",
       "      <th>Species</th>\n",
       "      <th>Weight</th>\n",
       "      <th>Length1</th>\n",
       "      <th>Length2</th>\n",
       "      <th>Length3</th>\n",
       "      <th>Height</th>\n",
       "      <th>Width</th>\n",
       "    </tr>\n",
       "  </thead>\n",
       "  <tbody>\n",
       "    <tr>\n",
       "      <th>0</th>\n",
       "      <td>Bream</td>\n",
       "      <td>242.0</td>\n",
       "      <td>23.2</td>\n",
       "      <td>25.4</td>\n",
       "      <td>30.0</td>\n",
       "      <td>11.5200</td>\n",
       "      <td>4.0200</td>\n",
       "    </tr>\n",
       "    <tr>\n",
       "      <th>1</th>\n",
       "      <td>Bream</td>\n",
       "      <td>290.0</td>\n",
       "      <td>24.0</td>\n",
       "      <td>26.3</td>\n",
       "      <td>31.2</td>\n",
       "      <td>12.4800</td>\n",
       "      <td>4.3056</td>\n",
       "    </tr>\n",
       "    <tr>\n",
       "      <th>2</th>\n",
       "      <td>Bream</td>\n",
       "      <td>340.0</td>\n",
       "      <td>23.9</td>\n",
       "      <td>26.5</td>\n",
       "      <td>31.1</td>\n",
       "      <td>12.3778</td>\n",
       "      <td>4.6961</td>\n",
       "    </tr>\n",
       "    <tr>\n",
       "      <th>3</th>\n",
       "      <td>Bream</td>\n",
       "      <td>363.0</td>\n",
       "      <td>26.3</td>\n",
       "      <td>29.0</td>\n",
       "      <td>33.5</td>\n",
       "      <td>12.7300</td>\n",
       "      <td>4.4555</td>\n",
       "    </tr>\n",
       "    <tr>\n",
       "      <th>4</th>\n",
       "      <td>Bream</td>\n",
       "      <td>430.0</td>\n",
       "      <td>26.5</td>\n",
       "      <td>29.0</td>\n",
       "      <td>34.0</td>\n",
       "      <td>12.4440</td>\n",
       "      <td>5.1340</td>\n",
       "    </tr>\n",
       "    <tr>\n",
       "      <th>5</th>\n",
       "      <td>Bream</td>\n",
       "      <td>450.0</td>\n",
       "      <td>26.8</td>\n",
       "      <td>29.7</td>\n",
       "      <td>34.7</td>\n",
       "      <td>13.6024</td>\n",
       "      <td>4.9274</td>\n",
       "    </tr>\n",
       "    <tr>\n",
       "      <th>6</th>\n",
       "      <td>Bream</td>\n",
       "      <td>500.0</td>\n",
       "      <td>26.8</td>\n",
       "      <td>29.7</td>\n",
       "      <td>34.5</td>\n",
       "      <td>14.1795</td>\n",
       "      <td>5.2785</td>\n",
       "    </tr>\n",
       "    <tr>\n",
       "      <th>7</th>\n",
       "      <td>Bream</td>\n",
       "      <td>390.0</td>\n",
       "      <td>27.6</td>\n",
       "      <td>30.0</td>\n",
       "      <td>35.0</td>\n",
       "      <td>12.6700</td>\n",
       "      <td>4.6900</td>\n",
       "    </tr>\n",
       "    <tr>\n",
       "      <th>8</th>\n",
       "      <td>Bream</td>\n",
       "      <td>450.0</td>\n",
       "      <td>27.6</td>\n",
       "      <td>30.0</td>\n",
       "      <td>35.1</td>\n",
       "      <td>14.0049</td>\n",
       "      <td>4.8438</td>\n",
       "    </tr>\n",
       "    <tr>\n",
       "      <th>9</th>\n",
       "      <td>Bream</td>\n",
       "      <td>500.0</td>\n",
       "      <td>28.5</td>\n",
       "      <td>30.7</td>\n",
       "      <td>36.2</td>\n",
       "      <td>14.2266</td>\n",
       "      <td>4.9594</td>\n",
       "    </tr>\n",
       "  </tbody>\n",
       "</table>\n",
       "</div>"
      ],
      "text/plain": [
       "  Species  Weight  Length1  Length2  Length3   Height   Width\n",
       "0   Bream   242.0     23.2     25.4     30.0  11.5200  4.0200\n",
       "1   Bream   290.0     24.0     26.3     31.2  12.4800  4.3056\n",
       "2   Bream   340.0     23.9     26.5     31.1  12.3778  4.6961\n",
       "3   Bream   363.0     26.3     29.0     33.5  12.7300  4.4555\n",
       "4   Bream   430.0     26.5     29.0     34.0  12.4440  5.1340\n",
       "5   Bream   450.0     26.8     29.7     34.7  13.6024  4.9274\n",
       "6   Bream   500.0     26.8     29.7     34.5  14.1795  5.2785\n",
       "7   Bream   390.0     27.6     30.0     35.0  12.6700  4.6900\n",
       "8   Bream   450.0     27.6     30.0     35.1  14.0049  4.8438\n",
       "9   Bream   500.0     28.5     30.7     36.2  14.2266  4.9594"
      ]
     },
     "execution_count": 45,
     "metadata": {},
     "output_type": "execute_result"
    }
   ],
   "source": [
    "dataframe = pd.read_csv('../Datasets/Fish.csv')\n",
    "dataframe.head(10)"
   ]
  },
  {
   "cell_type": "code",
   "execution_count": 46,
   "metadata": {},
   "outputs": [
    {
     "data": {
      "text/plain": [
       "Species    0\n",
       "Weight     0\n",
       "Length1    0\n",
       "Length2    0\n",
       "Length3    0\n",
       "Height     0\n",
       "Width      0\n",
       "dtype: int64"
      ]
     },
     "execution_count": 46,
     "metadata": {},
     "output_type": "execute_result"
    }
   ],
   "source": [
    "dataframe.isna().sum()"
   ]
  },
  {
   "cell_type": "code",
   "execution_count": 47,
   "metadata": {},
   "outputs": [
    {
     "data": {
      "text/plain": [
       "(159, 7)"
      ]
     },
     "execution_count": 47,
     "metadata": {},
     "output_type": "execute_result"
    }
   ],
   "source": [
    "dataframe.shape"
   ]
  },
  {
   "cell_type": "code",
   "execution_count": 50,
   "metadata": {},
   "outputs": [
    {
     "data": {
      "text/plain": [
       "array(['Bream', 'Roach', 'Whitefish', 'Parkki', 'Perch', 'Pike', 'Smelt'],\n",
       "      dtype=object)"
      ]
     },
     "execution_count": 50,
     "metadata": {},
     "output_type": "execute_result"
    }
   ],
   "source": [
    "x = dataframe['Species'].unique()\n",
    "x"
   ]
  },
  {
   "cell_type": "code",
   "execution_count": 51,
   "metadata": {},
   "outputs": [],
   "source": [
    "df1 = dataframe\n",
    "df1['Species'] = pd.factorize(dataframe['Species'])[0]"
   ]
  },
  {
   "cell_type": "code",
   "execution_count": 64,
   "metadata": {},
   "outputs": [
    {
     "name": "stdout",
     "output_type": "stream",
     "text": [
      "(159, 6)\n",
      "(159,)\n",
      "6\n"
     ]
    }
   ],
   "source": [
    "X = df1.iloc[:,1:]\n",
    "y = df1.iloc[:,0]\n",
    "print(X.shape)\n",
    "print(y.shape)\n",
    "print(y.iloc[157])"
   ]
  },
  {
   "cell_type": "code",
   "execution_count": 65,
   "metadata": {},
   "outputs": [],
   "source": [
    "from sklearn.utils import shuffle \n",
    "\n",
    "X, y = shuffle(X, y)"
   ]
  },
  {
   "cell_type": "code",
   "execution_count": 66,
   "metadata": {},
   "outputs": [
    {
     "name": "stdout",
     "output_type": "stream",
     "text": [
      "(159, 6)\n",
      "[0.15757576 0.34757282 0.34727273 0.33952703 0.31568439 0.46337957]\n",
      "[0.00454545 0.04854369 0.03818182 0.0472973  0.01413928 0.01584348]\n",
      "[0.60606061 0.63495146 0.63818182 0.62837838 0.63125268 1.        ]\n",
      "[0.00357576 0.         0.         0.         0.0222653  0.05080063]\n",
      "[0.3030303  0.66990291 0.66545455 0.66216216 0.30365787 0.54245602]\n"
     ]
    }
   ],
   "source": [
    "\n",
    "scaler = MinMaxScaler(feature_range=(0,1))\n",
    "X_scaled = scaler.fit_transform(X)\n",
    "print(X_scaled.shape)\n",
    "for i in range(0,5):\n",
    "    print(X_scaled[i])"
   ]
  },
  {
   "cell_type": "code",
   "execution_count": 73,
   "metadata": {},
   "outputs": [],
   "source": [
    "model = Sequential([\n",
    "    Dense(units=20, input_shape=(6,), activation='relu'),\n",
    "    Dense(units=10, activation='relu'),\n",
    "    Dense(units=7, activation='softmax')\n",
    "])"
   ]
  },
  {
   "cell_type": "code",
   "execution_count": 74,
   "metadata": {},
   "outputs": [],
   "source": [
    "model.compile(optimizer=Adam(learning_rate=0.0001), loss='sparse_categorical_crossentropy', metrics=['accuracy'])"
   ]
  },
  {
   "cell_type": "code",
   "execution_count": 77,
   "metadata": {},
   "outputs": [
    {
     "name": "stdout",
     "output_type": "stream",
     "text": [
      "Epoch 1/30\n",
      "16/16 - 0s - loss: 1.6516 - accuracy: 0.2264 - 41ms/epoch - 3ms/step\n",
      "Epoch 2/30\n",
      "16/16 - 0s - loss: 1.6499 - accuracy: 0.2264 - 37ms/epoch - 2ms/step\n",
      "Epoch 3/30\n",
      "16/16 - 0s - loss: 1.6481 - accuracy: 0.2327 - 43ms/epoch - 3ms/step\n",
      "Epoch 4/30\n",
      "16/16 - 0s - loss: 1.6465 - accuracy: 0.2327 - 46ms/epoch - 3ms/step\n",
      "Epoch 5/30\n",
      "16/16 - 0s - loss: 1.6447 - accuracy: 0.2390 - 42ms/epoch - 3ms/step\n",
      "Epoch 6/30\n",
      "16/16 - 0s - loss: 1.6430 - accuracy: 0.2390 - 45ms/epoch - 3ms/step\n",
      "Epoch 7/30\n",
      "16/16 - 0s - loss: 1.6413 - accuracy: 0.2390 - 50ms/epoch - 3ms/step\n",
      "Epoch 8/30\n",
      "16/16 - 0s - loss: 1.6396 - accuracy: 0.2516 - 44ms/epoch - 3ms/step\n",
      "Epoch 9/30\n",
      "16/16 - 0s - loss: 1.6380 - accuracy: 0.2516 - 50ms/epoch - 3ms/step\n",
      "Epoch 10/30\n",
      "16/16 - 0s - loss: 1.6363 - accuracy: 0.2579 - 35ms/epoch - 2ms/step\n",
      "Epoch 11/30\n",
      "16/16 - 0s - loss: 1.6348 - accuracy: 0.2642 - 39ms/epoch - 2ms/step\n",
      "Epoch 12/30\n",
      "16/16 - 0s - loss: 1.6331 - accuracy: 0.2642 - 34ms/epoch - 2ms/step\n",
      "Epoch 13/30\n",
      "16/16 - 0s - loss: 1.6315 - accuracy: 0.2767 - 34ms/epoch - 2ms/step\n",
      "Epoch 14/30\n",
      "16/16 - 0s - loss: 1.6299 - accuracy: 0.2767 - 51ms/epoch - 3ms/step\n",
      "Epoch 15/30\n",
      "16/16 - 0s - loss: 1.6284 - accuracy: 0.2830 - 46ms/epoch - 3ms/step\n",
      "Epoch 16/30\n",
      "16/16 - 0s - loss: 1.6268 - accuracy: 0.2956 - 47ms/epoch - 3ms/step\n",
      "Epoch 17/30\n",
      "16/16 - 0s - loss: 1.6252 - accuracy: 0.2956 - 50ms/epoch - 3ms/step\n",
      "Epoch 18/30\n",
      "16/16 - 0s - loss: 1.6236 - accuracy: 0.3019 - 44ms/epoch - 3ms/step\n",
      "Epoch 19/30\n",
      "16/16 - 0s - loss: 1.6221 - accuracy: 0.3270 - 50ms/epoch - 3ms/step\n",
      "Epoch 20/30\n",
      "16/16 - 0s - loss: 1.6206 - accuracy: 0.3396 - 49ms/epoch - 3ms/step\n",
      "Epoch 21/30\n",
      "16/16 - 0s - loss: 1.6191 - accuracy: 0.3522 - 48ms/epoch - 3ms/step\n",
      "Epoch 22/30\n",
      "16/16 - 0s - loss: 1.6174 - accuracy: 0.3711 - 44ms/epoch - 3ms/step\n",
      "Epoch 23/30\n",
      "16/16 - 0s - loss: 1.6157 - accuracy: 0.3774 - 36ms/epoch - 2ms/step\n",
      "Epoch 24/30\n",
      "16/16 - 0s - loss: 1.6143 - accuracy: 0.3836 - 35ms/epoch - 2ms/step\n",
      "Epoch 25/30\n",
      "16/16 - 0s - loss: 1.6125 - accuracy: 0.3899 - 37ms/epoch - 2ms/step\n",
      "Epoch 26/30\n",
      "16/16 - 0s - loss: 1.6108 - accuracy: 0.3899 - 36ms/epoch - 2ms/step\n",
      "Epoch 27/30\n",
      "16/16 - 0s - loss: 1.6091 - accuracy: 0.3962 - 44ms/epoch - 3ms/step\n",
      "Epoch 28/30\n",
      "16/16 - 0s - loss: 1.6074 - accuracy: 0.4025 - 58ms/epoch - 4ms/step\n",
      "Epoch 29/30\n",
      "16/16 - 0s - loss: 1.6056 - accuracy: 0.4214 - 53ms/epoch - 3ms/step\n",
      "Epoch 30/30\n",
      "16/16 - 0s - loss: 1.6040 - accuracy: 0.4340 - 65ms/epoch - 4ms/step\n"
     ]
    },
    {
     "data": {
      "text/plain": [
       "<keras.callbacks.History at 0x22fe3540e10>"
      ]
     },
     "execution_count": 77,
     "metadata": {},
     "output_type": "execute_result"
    }
   ],
   "source": [
    "model.fit(x=X_scaled,y=y,batch_size=10,epochs=30,verbose=2)"
   ]
  },
  {
   "cell_type": "markdown",
   "metadata": {},
   "source": [
    "#### Using validation split"
   ]
  },
  {
   "cell_type": "code",
   "execution_count": 78,
   "metadata": {},
   "outputs": [
    {
     "name": "stdout",
     "output_type": "stream",
     "text": [
      "Epoch 1/30\n",
      "13/13 - 0s - loss: 1.5828 - accuracy: 0.4331 - val_loss: 1.6797 - val_accuracy: 0.4688 - 292ms/epoch - 22ms/step\n",
      "Epoch 2/30\n",
      "13/13 - 0s - loss: 1.5813 - accuracy: 0.4331 - val_loss: 1.6786 - val_accuracy: 0.4688 - 86ms/epoch - 7ms/step\n",
      "Epoch 3/30\n",
      "13/13 - 0s - loss: 1.5798 - accuracy: 0.4409 - val_loss: 1.6775 - val_accuracy: 0.4688 - 85ms/epoch - 7ms/step\n",
      "Epoch 4/30\n",
      "13/13 - 0s - loss: 1.5783 - accuracy: 0.4409 - val_loss: 1.6764 - val_accuracy: 0.5000 - 78ms/epoch - 6ms/step\n",
      "Epoch 5/30\n",
      "13/13 - 0s - loss: 1.5768 - accuracy: 0.4409 - val_loss: 1.6752 - val_accuracy: 0.5000 - 85ms/epoch - 7ms/step\n",
      "Epoch 6/30\n",
      "13/13 - 0s - loss: 1.5754 - accuracy: 0.4409 - val_loss: 1.6743 - val_accuracy: 0.5000 - 79ms/epoch - 6ms/step\n",
      "Epoch 7/30\n",
      "13/13 - 0s - loss: 1.5739 - accuracy: 0.4409 - val_loss: 1.6732 - val_accuracy: 0.5000 - 73ms/epoch - 6ms/step\n",
      "Epoch 8/30\n",
      "13/13 - 0s - loss: 1.5726 - accuracy: 0.4409 - val_loss: 1.6722 - val_accuracy: 0.5000 - 96ms/epoch - 7ms/step\n",
      "Epoch 9/30\n",
      "13/13 - 0s - loss: 1.5711 - accuracy: 0.4409 - val_loss: 1.6712 - val_accuracy: 0.5000 - 71ms/epoch - 5ms/step\n",
      "Epoch 10/30\n",
      "13/13 - 0s - loss: 1.5697 - accuracy: 0.4409 - val_loss: 1.6700 - val_accuracy: 0.5000 - 79ms/epoch - 6ms/step\n",
      "Epoch 11/30\n",
      "13/13 - 0s - loss: 1.5684 - accuracy: 0.4409 - val_loss: 1.6690 - val_accuracy: 0.5000 - 76ms/epoch - 6ms/step\n",
      "Epoch 12/30\n",
      "13/13 - 0s - loss: 1.5670 - accuracy: 0.4409 - val_loss: 1.6680 - val_accuracy: 0.5000 - 91ms/epoch - 7ms/step\n",
      "Epoch 13/30\n",
      "13/13 - 0s - loss: 1.5657 - accuracy: 0.4409 - val_loss: 1.6667 - val_accuracy: 0.5000 - 103ms/epoch - 8ms/step\n",
      "Epoch 14/30\n",
      "13/13 - 0s - loss: 1.5642 - accuracy: 0.4409 - val_loss: 1.6656 - val_accuracy: 0.5000 - 92ms/epoch - 7ms/step\n",
      "Epoch 15/30\n",
      "13/13 - 0s - loss: 1.5628 - accuracy: 0.4409 - val_loss: 1.6645 - val_accuracy: 0.5000 - 97ms/epoch - 7ms/step\n",
      "Epoch 16/30\n",
      "13/13 - 0s - loss: 1.5614 - accuracy: 0.4567 - val_loss: 1.6633 - val_accuracy: 0.5000 - 91ms/epoch - 7ms/step\n",
      "Epoch 17/30\n",
      "13/13 - 0s - loss: 1.5601 - accuracy: 0.4567 - val_loss: 1.6623 - val_accuracy: 0.5000 - 109ms/epoch - 8ms/step\n",
      "Epoch 18/30\n",
      "13/13 - 0s - loss: 1.5589 - accuracy: 0.4567 - val_loss: 1.6614 - val_accuracy: 0.5000 - 102ms/epoch - 8ms/step\n",
      "Epoch 19/30\n",
      "13/13 - 0s - loss: 1.5574 - accuracy: 0.4567 - val_loss: 1.6601 - val_accuracy: 0.5000 - 101ms/epoch - 8ms/step\n",
      "Epoch 20/30\n",
      "13/13 - 0s - loss: 1.5561 - accuracy: 0.4646 - val_loss: 1.6591 - val_accuracy: 0.5000 - 93ms/epoch - 7ms/step\n",
      "Epoch 21/30\n",
      "13/13 - 0s - loss: 1.5548 - accuracy: 0.4646 - val_loss: 1.6580 - val_accuracy: 0.5000 - 101ms/epoch - 8ms/step\n",
      "Epoch 22/30\n",
      "13/13 - 0s - loss: 1.5534 - accuracy: 0.4724 - val_loss: 1.6569 - val_accuracy: 0.5000 - 102ms/epoch - 8ms/step\n",
      "Epoch 23/30\n",
      "13/13 - 0s - loss: 1.5521 - accuracy: 0.4803 - val_loss: 1.6557 - val_accuracy: 0.5000 - 109ms/epoch - 8ms/step\n",
      "Epoch 24/30\n",
      "13/13 - 0s - loss: 1.5508 - accuracy: 0.4882 - val_loss: 1.6547 - val_accuracy: 0.5000 - 150ms/epoch - 12ms/step\n",
      "Epoch 25/30\n",
      "13/13 - 0s - loss: 1.5496 - accuracy: 0.4882 - val_loss: 1.6534 - val_accuracy: 0.5000 - 144ms/epoch - 11ms/step\n",
      "Epoch 26/30\n",
      "13/13 - 0s - loss: 1.5483 - accuracy: 0.4961 - val_loss: 1.6523 - val_accuracy: 0.5000 - 122ms/epoch - 9ms/step\n",
      "Epoch 27/30\n",
      "13/13 - 0s - loss: 1.5468 - accuracy: 0.4961 - val_loss: 1.6512 - val_accuracy: 0.5000 - 123ms/epoch - 9ms/step\n",
      "Epoch 28/30\n",
      "13/13 - 0s - loss: 1.5455 - accuracy: 0.4961 - val_loss: 1.6503 - val_accuracy: 0.5000 - 130ms/epoch - 10ms/step\n",
      "Epoch 29/30\n",
      "13/13 - 0s - loss: 1.5443 - accuracy: 0.4961 - val_loss: 1.6490 - val_accuracy: 0.5000 - 130ms/epoch - 10ms/step\n",
      "Epoch 30/30\n",
      "13/13 - 0s - loss: 1.5429 - accuracy: 0.5039 - val_loss: 1.6479 - val_accuracy: 0.5000 - 129ms/epoch - 10ms/step\n"
     ]
    },
    {
     "data": {
      "text/plain": [
       "<keras.callbacks.History at 0x22fe30ca950>"
      ]
     },
     "execution_count": 78,
     "metadata": {},
     "output_type": "execute_result"
    }
   ],
   "source": [
    "model.fit(x=X_scaled,y=y,validation_split=0.2,batch_size=10,epochs=30,verbose=2)"
   ]
  },
  {
   "cell_type": "markdown",
   "metadata": {},
   "source": [
    "#### Using validation test set"
   ]
  },
  {
   "cell_type": "code",
   "execution_count": 79,
   "metadata": {},
   "outputs": [],
   "source": [
    "from sklearn.model_selection import train_test_split\n",
    "\n",
    "X_train_scaled, X_test_scaled, y_train, y_test = train_test_split(X_scaled,y,test_size=0.2,random_state=42)\n",
    "\n"
   ]
  },
  {
   "cell_type": "code",
   "execution_count": 80,
   "metadata": {},
   "outputs": [
    {
     "name": "stdout",
     "output_type": "stream",
     "text": [
      "Epoch 1/30\n",
      "13/13 - 0s - loss: 1.5544 - accuracy: 0.4961 - 37ms/epoch - 3ms/step\n",
      "Epoch 2/30\n",
      "13/13 - 0s - loss: 1.5531 - accuracy: 0.4961 - 28ms/epoch - 2ms/step\n",
      "Epoch 3/30\n",
      "13/13 - 0s - loss: 1.5517 - accuracy: 0.4961 - 36ms/epoch - 3ms/step\n",
      "Epoch 4/30\n",
      "13/13 - 0s - loss: 1.5504 - accuracy: 0.4961 - 45ms/epoch - 3ms/step\n",
      "Epoch 5/30\n",
      "13/13 - 0s - loss: 1.5491 - accuracy: 0.5039 - 40ms/epoch - 3ms/step\n",
      "Epoch 6/30\n",
      "13/13 - 0s - loss: 1.5478 - accuracy: 0.5039 - 59ms/epoch - 5ms/step\n",
      "Epoch 7/30\n",
      "13/13 - 0s - loss: 1.5465 - accuracy: 0.5118 - 45ms/epoch - 3ms/step\n",
      "Epoch 8/30\n",
      "13/13 - 0s - loss: 1.5451 - accuracy: 0.5197 - 27ms/epoch - 2ms/step\n",
      "Epoch 9/30\n",
      "13/13 - 0s - loss: 1.5439 - accuracy: 0.5276 - 29ms/epoch - 2ms/step\n",
      "Epoch 10/30\n",
      "13/13 - 0s - loss: 1.5426 - accuracy: 0.5197 - 23ms/epoch - 2ms/step\n",
      "Epoch 11/30\n",
      "13/13 - 0s - loss: 1.5412 - accuracy: 0.5276 - 37ms/epoch - 3ms/step\n",
      "Epoch 12/30\n",
      "13/13 - 0s - loss: 1.5398 - accuracy: 0.5276 - 43ms/epoch - 3ms/step\n",
      "Epoch 13/30\n",
      "13/13 - 0s - loss: 1.5385 - accuracy: 0.5276 - 44ms/epoch - 3ms/step\n",
      "Epoch 14/30\n",
      "13/13 - 0s - loss: 1.5373 - accuracy: 0.5354 - 52ms/epoch - 4ms/step\n",
      "Epoch 15/30\n",
      "13/13 - 0s - loss: 1.5359 - accuracy: 0.5354 - 42ms/epoch - 3ms/step\n",
      "Epoch 16/30\n",
      "13/13 - 0s - loss: 1.5346 - accuracy: 0.5354 - 30ms/epoch - 2ms/step\n",
      "Epoch 17/30\n",
      "13/13 - 0s - loss: 1.5334 - accuracy: 0.5276 - 41ms/epoch - 3ms/step\n",
      "Epoch 18/30\n",
      "13/13 - 0s - loss: 1.5318 - accuracy: 0.5276 - 44ms/epoch - 3ms/step\n",
      "Epoch 19/30\n",
      "13/13 - 0s - loss: 1.5306 - accuracy: 0.5276 - 46ms/epoch - 4ms/step\n",
      "Epoch 20/30\n",
      "13/13 - 0s - loss: 1.5293 - accuracy: 0.5276 - 34ms/epoch - 3ms/step\n",
      "Epoch 21/30\n",
      "13/13 - 0s - loss: 1.5278 - accuracy: 0.5276 - 27ms/epoch - 2ms/step\n",
      "Epoch 22/30\n",
      "13/13 - 0s - loss: 1.5265 - accuracy: 0.5276 - 50ms/epoch - 4ms/step\n",
      "Epoch 23/30\n",
      "13/13 - 0s - loss: 1.5251 - accuracy: 0.5276 - 45ms/epoch - 3ms/step\n",
      "Epoch 24/30\n",
      "13/13 - 0s - loss: 1.5237 - accuracy: 0.5276 - 56ms/epoch - 4ms/step\n",
      "Epoch 25/30\n",
      "13/13 - 0s - loss: 1.5221 - accuracy: 0.5276 - 58ms/epoch - 4ms/step\n",
      "Epoch 26/30\n",
      "13/13 - 0s - loss: 1.5203 - accuracy: 0.5354 - 62ms/epoch - 5ms/step\n",
      "Epoch 27/30\n",
      "13/13 - 0s - loss: 1.5186 - accuracy: 0.5354 - 52ms/epoch - 4ms/step\n",
      "Epoch 28/30\n",
      "13/13 - 0s - loss: 1.5167 - accuracy: 0.5354 - 51ms/epoch - 4ms/step\n",
      "Epoch 29/30\n",
      "13/13 - 0s - loss: 1.5150 - accuracy: 0.5354 - 55ms/epoch - 4ms/step\n",
      "Epoch 30/30\n",
      "13/13 - 0s - loss: 1.5132 - accuracy: 0.5354 - 53ms/epoch - 4ms/step\n"
     ]
    },
    {
     "data": {
      "text/plain": [
       "<keras.callbacks.History at 0x22fdf9f5f50>"
      ]
     },
     "execution_count": 80,
     "metadata": {},
     "output_type": "execute_result"
    }
   ],
   "source": [
    "model.fit(x=X_train_scaled,y=y_train,batch_size=10,epochs=30,verbose=2)"
   ]
  },
  {
   "cell_type": "code",
   "execution_count": 83,
   "metadata": {},
   "outputs": [],
   "source": [
    "y_pred = model.predict(X_test_scaled,batch_size=10,verbose=0)"
   ]
  },
  {
   "cell_type": "code",
   "execution_count": 84,
   "metadata": {},
   "outputs": [
    {
     "ename": "ValueError",
     "evalue": "Classification metrics can't handle a mix of multiclass and continuous-multioutput targets",
     "output_type": "error",
     "traceback": [
      "\u001b[1;31m---------------------------------------------------------------------------\u001b[0m",
      "\u001b[1;31mValueError\u001b[0m                                Traceback (most recent call last)",
      "\u001b[1;32mc:\\Users\\SUJAN ACHARYA\\OneDrive\\Documents\\My_Codings\\Python\\Machine_Learning\\ML\\Neural_Networks\\fish_nn.ipynb Cell 19\u001b[0m line \u001b[0;36m3\n\u001b[0;32m      <a href='vscode-notebook-cell:/c%3A/Users/SUJAN%20ACHARYA/OneDrive/Documents/My_Codings/Python/Machine_Learning/ML/Neural_Networks/fish_nn.ipynb#X26sZmlsZQ%3D%3D?line=0'>1</a>\u001b[0m \u001b[39mfrom\u001b[39;00m \u001b[39msklearn\u001b[39;00m\u001b[39m.\u001b[39;00m\u001b[39mmetrics\u001b[39;00m \u001b[39mimport\u001b[39;00m confusion_matrix\n\u001b[1;32m----> <a href='vscode-notebook-cell:/c%3A/Users/SUJAN%20ACHARYA/OneDrive/Documents/My_Codings/Python/Machine_Learning/ML/Neural_Networks/fish_nn.ipynb#X26sZmlsZQ%3D%3D?line=2'>3</a>\u001b[0m cm \u001b[39m=\u001b[39m confusion_matrix(y_true\u001b[39m=\u001b[39;49my_test,y_pred\u001b[39m=\u001b[39;49my_pred)\n",
      "File \u001b[1;32mc:\\Users\\SUJAN ACHARYA\\AppData\\Local\\Programs\\Python\\Python311\\Lib\\site-packages\\sklearn\\metrics\\_classification.py:317\u001b[0m, in \u001b[0;36mconfusion_matrix\u001b[1;34m(y_true, y_pred, labels, sample_weight, normalize)\u001b[0m\n\u001b[0;32m    232\u001b[0m \u001b[39mdef\u001b[39;00m \u001b[39mconfusion_matrix\u001b[39m(\n\u001b[0;32m    233\u001b[0m     y_true, y_pred, \u001b[39m*\u001b[39m, labels\u001b[39m=\u001b[39m\u001b[39mNone\u001b[39;00m, sample_weight\u001b[39m=\u001b[39m\u001b[39mNone\u001b[39;00m, normalize\u001b[39m=\u001b[39m\u001b[39mNone\u001b[39;00m\n\u001b[0;32m    234\u001b[0m ):\n\u001b[0;32m    235\u001b[0m \u001b[39m    \u001b[39m\u001b[39m\"\"\"Compute confusion matrix to evaluate the accuracy of a classification.\u001b[39;00m\n\u001b[0;32m    236\u001b[0m \n\u001b[0;32m    237\u001b[0m \u001b[39m    By definition a confusion matrix :math:`C` is such that :math:`C_{i, j}`\u001b[39;00m\n\u001b[1;32m   (...)\u001b[0m\n\u001b[0;32m    315\u001b[0m \u001b[39m    (0, 2, 1, 1)\u001b[39;00m\n\u001b[0;32m    316\u001b[0m \u001b[39m    \"\"\"\u001b[39;00m\n\u001b[1;32m--> 317\u001b[0m     y_type, y_true, y_pred \u001b[39m=\u001b[39m _check_targets(y_true, y_pred)\n\u001b[0;32m    318\u001b[0m     \u001b[39mif\u001b[39;00m y_type \u001b[39mnot\u001b[39;00m \u001b[39min\u001b[39;00m (\u001b[39m\"\u001b[39m\u001b[39mbinary\u001b[39m\u001b[39m\"\u001b[39m, \u001b[39m\"\u001b[39m\u001b[39mmulticlass\u001b[39m\u001b[39m\"\u001b[39m):\n\u001b[0;32m    319\u001b[0m         \u001b[39mraise\u001b[39;00m \u001b[39mValueError\u001b[39;00m(\u001b[39m\"\u001b[39m\u001b[39m%s\u001b[39;00m\u001b[39m is not supported\u001b[39m\u001b[39m\"\u001b[39m \u001b[39m%\u001b[39m y_type)\n",
      "File \u001b[1;32mc:\\Users\\SUJAN ACHARYA\\AppData\\Local\\Programs\\Python\\Python311\\Lib\\site-packages\\sklearn\\metrics\\_classification.py:95\u001b[0m, in \u001b[0;36m_check_targets\u001b[1;34m(y_true, y_pred)\u001b[0m\n\u001b[0;32m     92\u001b[0m     y_type \u001b[39m=\u001b[39m {\u001b[39m\"\u001b[39m\u001b[39mmulticlass\u001b[39m\u001b[39m\"\u001b[39m}\n\u001b[0;32m     94\u001b[0m \u001b[39mif\u001b[39;00m \u001b[39mlen\u001b[39m(y_type) \u001b[39m>\u001b[39m \u001b[39m1\u001b[39m:\n\u001b[1;32m---> 95\u001b[0m     \u001b[39mraise\u001b[39;00m \u001b[39mValueError\u001b[39;00m(\n\u001b[0;32m     96\u001b[0m         \u001b[39m\"\u001b[39m\u001b[39mClassification metrics can\u001b[39m\u001b[39m'\u001b[39m\u001b[39mt handle a mix of \u001b[39m\u001b[39m{0}\u001b[39;00m\u001b[39m and \u001b[39m\u001b[39m{1}\u001b[39;00m\u001b[39m targets\u001b[39m\u001b[39m\"\u001b[39m\u001b[39m.\u001b[39mformat(\n\u001b[0;32m     97\u001b[0m             type_true, type_pred\n\u001b[0;32m     98\u001b[0m         )\n\u001b[0;32m     99\u001b[0m     )\n\u001b[0;32m    101\u001b[0m \u001b[39m# We can't have more than one value on y_type => The set is no more needed\u001b[39;00m\n\u001b[0;32m    102\u001b[0m y_type \u001b[39m=\u001b[39m y_type\u001b[39m.\u001b[39mpop()\n",
      "\u001b[1;31mValueError\u001b[0m: Classification metrics can't handle a mix of multiclass and continuous-multioutput targets"
     ]
    }
   ],
   "source": [
    "from sklearn.metrics import confusion_matrix\n",
    "\n",
    "cm = confusion_matrix(y_true=y_test,y_pred=y_pred)"
   ]
  },
  {
   "cell_type": "code",
   "execution_count": null,
   "metadata": {},
   "outputs": [],
   "source": []
  }
 ],
 "metadata": {
  "kernelspec": {
   "display_name": "Python 3",
   "language": "python",
   "name": "python3"
  },
  "language_info": {
   "codemirror_mode": {
    "name": "ipython",
    "version": 3
   },
   "file_extension": ".py",
   "mimetype": "text/x-python",
   "name": "python",
   "nbconvert_exporter": "python",
   "pygments_lexer": "ipython3",
   "version": "3.11.3"
  },
  "orig_nbformat": 4
 },
 "nbformat": 4,
 "nbformat_minor": 2
}
